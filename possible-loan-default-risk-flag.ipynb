{
 "cells": [
  {
   "cell_type": "code",
   "execution_count": 8,
   "id": "fc70f4a2",
   "metadata": {
    "_cell_guid": "b1076dfc-b9ad-4769-8c92-a6c4dae69d19",
    "_uuid": "8f2839f25d086af736a60e9eeb907d3b93b6e0e5",
    "execution": {
     "iopub.execute_input": "2023-09-13T12:46:11.459107Z",
     "iopub.status.busy": "2023-09-13T12:46:11.457989Z",
     "iopub.status.idle": "2023-09-13T12:46:15.380001Z",
     "shell.execute_reply": "2023-09-13T12:46:15.379012Z"
    },
    "papermill": {
     "duration": 3.940398,
     "end_time": "2023-09-13T12:46:15.382563",
     "exception": false,
     "start_time": "2023-09-13T12:46:11.442165",
     "status": "completed"
    },
    "tags": []
   },
   "outputs": [],
   "source": [
    "import numpy as np \n",
    "import pandas as pd \n",
    "\n",
    "import matplotlib.pyplot as plt\n",
    "# import plotly.express as px\n",
    "# from plotly.offline import init_notebook_mode, iplot\n",
    "import seaborn as sns\n",
    "sns.set_theme(style = \"darkgrid\")\n",
    "\n",
    "# init_notebook_mode(connected=True)\n",
    "%matplotlib inline\n",
    "\n",
    "from sklearn.decomposition import PCA\n",
    "\n",
    "from sklearn.preprocessing import StandardScaler\n",
    "from sklearn.model_selection import train_test_split\n",
    "from sklearn.model_selection import cross_val_score\n",
    "from sklearn.model_selection import GridSearchCV, RandomizedSearchCV\n",
    "from sklearn.preprocessing import LabelEncoder\n",
    "from sklearn.preprocessing import OneHotEncoder\n",
    "import category_encoders as ce\n",
    "\n",
    "from sklearn.metrics import confusion_matrix, precision_score, recall_score, f1_score, accuracy_score, roc_auc_score\n",
    "\n",
    "import pickle "
   ]
  },
  {
   "cell_type": "markdown",
   "id": "ce7197ea",
   "metadata": {
    "papermill": {
     "duration": 0.012031,
     "end_time": "2023-09-13T12:46:15.407385",
     "exception": false,
     "start_time": "2023-09-13T12:46:15.395354",
     "status": "completed"
    },
    "tags": []
   },
   "source": [
    "# Steps\n",
    "\n",
    "1. Understanding the Data\n",
    "2. Preprocess + EDA + Feature Selection\n",
    "3. Extract input and output cols\n",
    "4. Scale the values\n",
    "5. Train test split\n",
    "6. Train the model\n",
    "7. Evaluate the model/model selection\n",
    "8. Tuning the model\n",
    "9. Deploy the model"
   ]
  },
  {
   "cell_type": "markdown",
   "id": "2559005d",
   "metadata": {
    "papermill": {
     "duration": 0.012337,
     "end_time": "2023-09-13T12:46:15.431914",
     "exception": false,
     "start_time": "2023-09-13T12:46:15.419577",
     "status": "completed"
    },
    "tags": []
   },
   "source": [
    "# Understanding the Data\n",
    "### You need to answer some of the questions regarding your data:"
   ]
  },
  {
   "cell_type": "code",
   "execution_count": 9,
   "id": "88f4f7d5",
   "metadata": {
    "execution": {
     "iopub.execute_input": "2023-09-13T12:46:15.458677Z",
     "iopub.status.busy": "2023-09-13T12:46:15.458135Z",
     "iopub.status.idle": "2023-09-13T12:46:16.190487Z",
     "shell.execute_reply": "2023-09-13T12:46:16.189385Z"
    },
    "papermill": {
     "duration": 0.748446,
     "end_time": "2023-09-13T12:46:16.192908",
     "exception": false,
     "start_time": "2023-09-13T12:46:15.444462",
     "status": "completed"
    },
    "tags": []
   },
   "outputs": [],
   "source": [
    "df = pd.read_csv(\"data/TrainingData.csv\")"
   ]
  },
  {
   "cell_type": "code",
   "execution_count": 10,
   "id": "1ccc33a7",
   "metadata": {
    "execution": {
     "iopub.execute_input": "2023-09-13T12:46:16.219834Z",
     "iopub.status.busy": "2023-09-13T12:46:16.219426Z",
     "iopub.status.idle": "2023-09-13T12:46:16.224811Z",
     "shell.execute_reply": "2023-09-13T12:46:16.224080Z"
    },
    "papermill": {
     "duration": 0.022218,
     "end_time": "2023-09-13T12:46:16.227572",
     "exception": false,
     "start_time": "2023-09-13T12:46:16.205354",
     "status": "completed"
    },
    "tags": []
   },
   "outputs": [
    {
     "name": "stdout",
     "output_type": "stream",
     "text": [
      "Rows: 252000\n",
      "Columns: 13\n"
     ]
    }
   ],
   "source": [
    "rows, columns = df.shape\n",
    "print('Rows:', rows)\n",
    "print('Columns:', columns)"
   ]
  },
  {
   "cell_type": "code",
   "execution_count": 11,
   "id": "3aad9964",
   "metadata": {
    "execution": {
     "iopub.execute_input": "2023-09-13T12:46:16.255905Z",
     "iopub.status.busy": "2023-09-13T12:46:16.255293Z",
     "iopub.status.idle": "2023-09-13T12:46:16.280396Z",
     "shell.execute_reply": "2023-09-13T12:46:16.279225Z"
    },
    "papermill": {
     "duration": 0.042047,
     "end_time": "2023-09-13T12:46:16.283083",
     "exception": false,
     "start_time": "2023-09-13T12:46:16.241036",
     "status": "completed"
    },
    "tags": []
   },
   "outputs": [
    {
     "data": {
      "text/html": [
       "<div>\n",
       "<style scoped>\n",
       "    .dataframe tbody tr th:only-of-type {\n",
       "        vertical-align: middle;\n",
       "    }\n",
       "\n",
       "    .dataframe tbody tr th {\n",
       "        vertical-align: top;\n",
       "    }\n",
       "\n",
       "    .dataframe thead th {\n",
       "        text-align: right;\n",
       "    }\n",
       "</style>\n",
       "<table border=\"1\" class=\"dataframe\">\n",
       "  <thead>\n",
       "    <tr style=\"text-align: right;\">\n",
       "      <th></th>\n",
       "      <th>Id</th>\n",
       "      <th>Income</th>\n",
       "      <th>Age</th>\n",
       "      <th>Experience</th>\n",
       "      <th>Married/Single</th>\n",
       "      <th>House_Ownership</th>\n",
       "      <th>Car_Ownership</th>\n",
       "      <th>Profession</th>\n",
       "      <th>CITY</th>\n",
       "      <th>STATE</th>\n",
       "      <th>CURRENT_JOB_YRS</th>\n",
       "      <th>CURRENT_HOUSE_YRS</th>\n",
       "      <th>Risk_Flag</th>\n",
       "    </tr>\n",
       "  </thead>\n",
       "  <tbody>\n",
       "    <tr>\n",
       "      <th>0</th>\n",
       "      <td>1</td>\n",
       "      <td>1303834</td>\n",
       "      <td>23</td>\n",
       "      <td>3</td>\n",
       "      <td>single</td>\n",
       "      <td>rented</td>\n",
       "      <td>no</td>\n",
       "      <td>Mechanical_engineer</td>\n",
       "      <td>Rewa</td>\n",
       "      <td>Madhya_Pradesh</td>\n",
       "      <td>3</td>\n",
       "      <td>13</td>\n",
       "      <td>0</td>\n",
       "    </tr>\n",
       "    <tr>\n",
       "      <th>1</th>\n",
       "      <td>2</td>\n",
       "      <td>7574516</td>\n",
       "      <td>40</td>\n",
       "      <td>10</td>\n",
       "      <td>single</td>\n",
       "      <td>rented</td>\n",
       "      <td>no</td>\n",
       "      <td>Software_Developer</td>\n",
       "      <td>Parbhani</td>\n",
       "      <td>Maharashtra</td>\n",
       "      <td>9</td>\n",
       "      <td>13</td>\n",
       "      <td>0</td>\n",
       "    </tr>\n",
       "    <tr>\n",
       "      <th>2</th>\n",
       "      <td>3</td>\n",
       "      <td>3991815</td>\n",
       "      <td>66</td>\n",
       "      <td>4</td>\n",
       "      <td>married</td>\n",
       "      <td>rented</td>\n",
       "      <td>no</td>\n",
       "      <td>Technical_writer</td>\n",
       "      <td>Alappuzha</td>\n",
       "      <td>Kerala</td>\n",
       "      <td>4</td>\n",
       "      <td>10</td>\n",
       "      <td>0</td>\n",
       "    </tr>\n",
       "    <tr>\n",
       "      <th>3</th>\n",
       "      <td>4</td>\n",
       "      <td>6256451</td>\n",
       "      <td>41</td>\n",
       "      <td>2</td>\n",
       "      <td>single</td>\n",
       "      <td>rented</td>\n",
       "      <td>yes</td>\n",
       "      <td>Software_Developer</td>\n",
       "      <td>Bhubaneswar</td>\n",
       "      <td>Odisha</td>\n",
       "      <td>2</td>\n",
       "      <td>12</td>\n",
       "      <td>1</td>\n",
       "    </tr>\n",
       "    <tr>\n",
       "      <th>4</th>\n",
       "      <td>5</td>\n",
       "      <td>5768871</td>\n",
       "      <td>47</td>\n",
       "      <td>11</td>\n",
       "      <td>single</td>\n",
       "      <td>rented</td>\n",
       "      <td>no</td>\n",
       "      <td>Civil_servant</td>\n",
       "      <td>Tiruchirappalli[10]</td>\n",
       "      <td>Tamil_Nadu</td>\n",
       "      <td>3</td>\n",
       "      <td>14</td>\n",
       "      <td>1</td>\n",
       "    </tr>\n",
       "  </tbody>\n",
       "</table>\n",
       "</div>"
      ],
      "text/plain": [
       "   Id   Income  Age  Experience Married/Single House_Ownership Car_Ownership  \\\n",
       "0   1  1303834   23           3         single          rented            no   \n",
       "1   2  7574516   40          10         single          rented            no   \n",
       "2   3  3991815   66           4        married          rented            no   \n",
       "3   4  6256451   41           2         single          rented           yes   \n",
       "4   5  5768871   47          11         single          rented            no   \n",
       "\n",
       "            Profession                 CITY           STATE  CURRENT_JOB_YRS  \\\n",
       "0  Mechanical_engineer                 Rewa  Madhya_Pradesh                3   \n",
       "1   Software_Developer             Parbhani     Maharashtra                9   \n",
       "2     Technical_writer            Alappuzha          Kerala                4   \n",
       "3   Software_Developer          Bhubaneswar          Odisha                2   \n",
       "4        Civil_servant  Tiruchirappalli[10]      Tamil_Nadu                3   \n",
       "\n",
       "   CURRENT_HOUSE_YRS  Risk_Flag  \n",
       "0                 13          0  \n",
       "1                 13          0  \n",
       "2                 10          0  \n",
       "3                 12          1  \n",
       "4                 14          1  "
      ]
     },
     "execution_count": 11,
     "metadata": {},
     "output_type": "execute_result"
    }
   ],
   "source": [
    "df.head()"
   ]
  },
  {
   "cell_type": "code",
   "execution_count": 12,
   "id": "b808b7d0",
   "metadata": {
    "execution": {
     "iopub.execute_input": "2023-09-13T12:46:16.310535Z",
     "iopub.status.busy": "2023-09-13T12:46:16.309794Z",
     "iopub.status.idle": "2023-09-13T12:46:16.335293Z",
     "shell.execute_reply": "2023-09-13T12:46:16.334234Z"
    },
    "papermill": {
     "duration": 0.041938,
     "end_time": "2023-09-13T12:46:16.337850",
     "exception": false,
     "start_time": "2023-09-13T12:46:16.295912",
     "status": "completed"
    },
    "tags": []
   },
   "outputs": [
    {
     "data": {
      "text/html": [
       "<div>\n",
       "<style scoped>\n",
       "    .dataframe tbody tr th:only-of-type {\n",
       "        vertical-align: middle;\n",
       "    }\n",
       "\n",
       "    .dataframe tbody tr th {\n",
       "        vertical-align: top;\n",
       "    }\n",
       "\n",
       "    .dataframe thead th {\n",
       "        text-align: right;\n",
       "    }\n",
       "</style>\n",
       "<table border=\"1\" class=\"dataframe\">\n",
       "  <thead>\n",
       "    <tr style=\"text-align: right;\">\n",
       "      <th></th>\n",
       "      <th>Id</th>\n",
       "      <th>Income</th>\n",
       "      <th>Age</th>\n",
       "      <th>Experience</th>\n",
       "      <th>Married/Single</th>\n",
       "      <th>House_Ownership</th>\n",
       "      <th>Car_Ownership</th>\n",
       "      <th>Profession</th>\n",
       "      <th>CITY</th>\n",
       "      <th>STATE</th>\n",
       "      <th>CURRENT_JOB_YRS</th>\n",
       "      <th>CURRENT_HOUSE_YRS</th>\n",
       "      <th>Risk_Flag</th>\n",
       "    </tr>\n",
       "  </thead>\n",
       "  <tbody>\n",
       "    <tr>\n",
       "      <th>38924</th>\n",
       "      <td>38925</td>\n",
       "      <td>7998315</td>\n",
       "      <td>65</td>\n",
       "      <td>13</td>\n",
       "      <td>single</td>\n",
       "      <td>rented</td>\n",
       "      <td>no</td>\n",
       "      <td>Army_officer</td>\n",
       "      <td>Rajpur_Sonarpur</td>\n",
       "      <td>West_Bengal</td>\n",
       "      <td>4</td>\n",
       "      <td>12</td>\n",
       "      <td>0</td>\n",
       "    </tr>\n",
       "    <tr>\n",
       "      <th>2715</th>\n",
       "      <td>2716</td>\n",
       "      <td>6626617</td>\n",
       "      <td>21</td>\n",
       "      <td>16</td>\n",
       "      <td>single</td>\n",
       "      <td>rented</td>\n",
       "      <td>no</td>\n",
       "      <td>Civil_servant</td>\n",
       "      <td>Kozhikode</td>\n",
       "      <td>Kerala</td>\n",
       "      <td>9</td>\n",
       "      <td>13</td>\n",
       "      <td>0</td>\n",
       "    </tr>\n",
       "    <tr>\n",
       "      <th>166851</th>\n",
       "      <td>166852</td>\n",
       "      <td>3957826</td>\n",
       "      <td>78</td>\n",
       "      <td>13</td>\n",
       "      <td>single</td>\n",
       "      <td>rented</td>\n",
       "      <td>no</td>\n",
       "      <td>Economist</td>\n",
       "      <td>Jhansi</td>\n",
       "      <td>Uttar_Pradesh</td>\n",
       "      <td>11</td>\n",
       "      <td>11</td>\n",
       "      <td>0</td>\n",
       "    </tr>\n",
       "    <tr>\n",
       "      <th>118459</th>\n",
       "      <td>118460</td>\n",
       "      <td>5523182</td>\n",
       "      <td>41</td>\n",
       "      <td>16</td>\n",
       "      <td>single</td>\n",
       "      <td>rented</td>\n",
       "      <td>yes</td>\n",
       "      <td>Police_officer</td>\n",
       "      <td>Shahjahanpur</td>\n",
       "      <td>Uttar_Pradesh</td>\n",
       "      <td>7</td>\n",
       "      <td>12</td>\n",
       "      <td>0</td>\n",
       "    </tr>\n",
       "    <tr>\n",
       "      <th>150524</th>\n",
       "      <td>150525</td>\n",
       "      <td>2354980</td>\n",
       "      <td>64</td>\n",
       "      <td>7</td>\n",
       "      <td>single</td>\n",
       "      <td>rented</td>\n",
       "      <td>no</td>\n",
       "      <td>Magistrate</td>\n",
       "      <td>Tiruvottiyur</td>\n",
       "      <td>Tamil_Nadu</td>\n",
       "      <td>7</td>\n",
       "      <td>11</td>\n",
       "      <td>0</td>\n",
       "    </tr>\n",
       "  </tbody>\n",
       "</table>\n",
       "</div>"
      ],
      "text/plain": [
       "            Id   Income  Age  Experience Married/Single House_Ownership  \\\n",
       "38924    38925  7998315   65          13         single          rented   \n",
       "2715      2716  6626617   21          16         single          rented   \n",
       "166851  166852  3957826   78          13         single          rented   \n",
       "118459  118460  5523182   41          16         single          rented   \n",
       "150524  150525  2354980   64           7         single          rented   \n",
       "\n",
       "       Car_Ownership      Profession             CITY          STATE  \\\n",
       "38924             no    Army_officer  Rajpur_Sonarpur    West_Bengal   \n",
       "2715              no   Civil_servant        Kozhikode         Kerala   \n",
       "166851            no       Economist           Jhansi  Uttar_Pradesh   \n",
       "118459           yes  Police_officer     Shahjahanpur  Uttar_Pradesh   \n",
       "150524            no      Magistrate     Tiruvottiyur     Tamil_Nadu   \n",
       "\n",
       "        CURRENT_JOB_YRS  CURRENT_HOUSE_YRS  Risk_Flag  \n",
       "38924                 4                 12          0  \n",
       "2715                  9                 13          0  \n",
       "166851               11                 11          0  \n",
       "118459                7                 12          0  \n",
       "150524                7                 11          0  "
      ]
     },
     "execution_count": 12,
     "metadata": {},
     "output_type": "execute_result"
    }
   ],
   "source": [
    "df.sample(5)"
   ]
  },
  {
   "cell_type": "markdown",
   "id": "82882c27",
   "metadata": {
    "papermill": {
     "duration": 0.013168,
     "end_time": "2023-09-13T12:46:16.364517",
     "exception": false,
     "start_time": "2023-09-13T12:46:16.351349",
     "status": "completed"
    },
    "tags": []
   },
   "source": [
    "### What is the data type of cols?"
   ]
  },
  {
   "cell_type": "code",
   "execution_count": 13,
   "id": "94f1f0e2",
   "metadata": {
    "execution": {
     "iopub.execute_input": "2023-09-13T12:46:16.392647Z",
     "iopub.status.busy": "2023-09-13T12:46:16.391862Z",
     "iopub.status.idle": "2023-09-13T12:46:16.399713Z",
     "shell.execute_reply": "2023-09-13T12:46:16.398889Z"
    },
    "papermill": {
     "duration": 0.024125,
     "end_time": "2023-09-13T12:46:16.401778",
     "exception": false,
     "start_time": "2023-09-13T12:46:16.377653",
     "status": "completed"
    },
    "tags": []
   },
   "outputs": [
    {
     "data": {
      "text/plain": [
       "Id                    int64\n",
       "Income                int64\n",
       "Age                   int64\n",
       "Experience            int64\n",
       "Married/Single       object\n",
       "House_Ownership      object\n",
       "Car_Ownership        object\n",
       "Profession           object\n",
       "CITY                 object\n",
       "STATE                object\n",
       "CURRENT_JOB_YRS       int64\n",
       "CURRENT_HOUSE_YRS     int64\n",
       "Risk_Flag             int64\n",
       "dtype: object"
      ]
     },
     "execution_count": 13,
     "metadata": {},
     "output_type": "execute_result"
    }
   ],
   "source": [
    "df.dtypes"
   ]
  },
  {
   "cell_type": "code",
   "execution_count": 14,
   "id": "d23cac1b",
   "metadata": {
    "execution": {
     "iopub.execute_input": "2023-09-13T12:46:16.430514Z",
     "iopub.status.busy": "2023-09-13T12:46:16.429427Z",
     "iopub.status.idle": "2023-09-13T12:46:16.527058Z",
     "shell.execute_reply": "2023-09-13T12:46:16.525934Z"
    },
    "papermill": {
     "duration": 0.116125,
     "end_time": "2023-09-13T12:46:16.530925",
     "exception": false,
     "start_time": "2023-09-13T12:46:16.414800",
     "status": "completed"
    },
    "tags": []
   },
   "outputs": [
    {
     "name": "stdout",
     "output_type": "stream",
     "text": [
      "<class 'pandas.core.frame.DataFrame'>\n",
      "RangeIndex: 252000 entries, 0 to 251999\n",
      "Data columns (total 13 columns):\n",
      " #   Column             Non-Null Count   Dtype \n",
      "---  ------             --------------   ----- \n",
      " 0   Id                 252000 non-null  int64 \n",
      " 1   Income             252000 non-null  int64 \n",
      " 2   Age                252000 non-null  int64 \n",
      " 3   Experience         252000 non-null  int64 \n",
      " 4   Married/Single     252000 non-null  object\n",
      " 5   House_Ownership    252000 non-null  object\n",
      " 6   Car_Ownership      252000 non-null  object\n",
      " 7   Profession         252000 non-null  object\n",
      " 8   CITY               252000 non-null  object\n",
      " 9   STATE              252000 non-null  object\n",
      " 10  CURRENT_JOB_YRS    252000 non-null  int64 \n",
      " 11  CURRENT_HOUSE_YRS  252000 non-null  int64 \n",
      " 12  Risk_Flag          252000 non-null  int64 \n",
      "dtypes: int64(7), object(6)\n",
      "memory usage: 25.0+ MB\n"
     ]
    }
   ],
   "source": [
    "df.info()"
   ]
  },
  {
   "cell_type": "markdown",
   "id": "a67272db",
   "metadata": {
    "papermill": {
     "duration": 0.013714,
     "end_time": "2023-09-13T12:46:16.560305",
     "exception": false,
     "start_time": "2023-09-13T12:46:16.546591",
     "status": "completed"
    },
    "tags": []
   },
   "source": [
    "### How does the data look mathematically?"
   ]
  },
  {
   "cell_type": "code",
   "execution_count": 15,
   "id": "5054279c",
   "metadata": {
    "execution": {
     "iopub.execute_input": "2023-09-13T12:46:16.650391Z",
     "iopub.status.busy": "2023-09-13T12:46:16.649900Z",
     "iopub.status.idle": "2023-09-13T12:46:16.739994Z",
     "shell.execute_reply": "2023-09-13T12:46:16.738779Z"
    },
    "papermill": {
     "duration": 0.10699,
     "end_time": "2023-09-13T12:46:16.742389",
     "exception": false,
     "start_time": "2023-09-13T12:46:16.635399",
     "status": "completed"
    },
    "tags": []
   },
   "outputs": [
    {
     "data": {
      "text/html": [
       "<div>\n",
       "<style scoped>\n",
       "    .dataframe tbody tr th:only-of-type {\n",
       "        vertical-align: middle;\n",
       "    }\n",
       "\n",
       "    .dataframe tbody tr th {\n",
       "        vertical-align: top;\n",
       "    }\n",
       "\n",
       "    .dataframe thead th {\n",
       "        text-align: right;\n",
       "    }\n",
       "</style>\n",
       "<table border=\"1\" class=\"dataframe\">\n",
       "  <thead>\n",
       "    <tr style=\"text-align: right;\">\n",
       "      <th></th>\n",
       "      <th>Id</th>\n",
       "      <th>Income</th>\n",
       "      <th>Age</th>\n",
       "      <th>Experience</th>\n",
       "      <th>CURRENT_JOB_YRS</th>\n",
       "      <th>CURRENT_HOUSE_YRS</th>\n",
       "      <th>Risk_Flag</th>\n",
       "    </tr>\n",
       "  </thead>\n",
       "  <tbody>\n",
       "    <tr>\n",
       "      <th>count</th>\n",
       "      <td>252000.000000</td>\n",
       "      <td>2.520000e+05</td>\n",
       "      <td>252000.000000</td>\n",
       "      <td>252000.000000</td>\n",
       "      <td>252000.000000</td>\n",
       "      <td>252000.000000</td>\n",
       "      <td>252000.000000</td>\n",
       "    </tr>\n",
       "    <tr>\n",
       "      <th>mean</th>\n",
       "      <td>126000.500000</td>\n",
       "      <td>4.997117e+06</td>\n",
       "      <td>49.954071</td>\n",
       "      <td>10.084437</td>\n",
       "      <td>6.333877</td>\n",
       "      <td>11.997794</td>\n",
       "      <td>0.123000</td>\n",
       "    </tr>\n",
       "    <tr>\n",
       "      <th>std</th>\n",
       "      <td>72746.278255</td>\n",
       "      <td>2.878311e+06</td>\n",
       "      <td>17.063855</td>\n",
       "      <td>6.002590</td>\n",
       "      <td>3.647053</td>\n",
       "      <td>1.399037</td>\n",
       "      <td>0.328438</td>\n",
       "    </tr>\n",
       "    <tr>\n",
       "      <th>min</th>\n",
       "      <td>1.000000</td>\n",
       "      <td>1.031000e+04</td>\n",
       "      <td>21.000000</td>\n",
       "      <td>0.000000</td>\n",
       "      <td>0.000000</td>\n",
       "      <td>10.000000</td>\n",
       "      <td>0.000000</td>\n",
       "    </tr>\n",
       "    <tr>\n",
       "      <th>25%</th>\n",
       "      <td>63000.750000</td>\n",
       "      <td>2.503015e+06</td>\n",
       "      <td>35.000000</td>\n",
       "      <td>5.000000</td>\n",
       "      <td>3.000000</td>\n",
       "      <td>11.000000</td>\n",
       "      <td>0.000000</td>\n",
       "    </tr>\n",
       "    <tr>\n",
       "      <th>50%</th>\n",
       "      <td>126000.500000</td>\n",
       "      <td>5.000694e+06</td>\n",
       "      <td>50.000000</td>\n",
       "      <td>10.000000</td>\n",
       "      <td>6.000000</td>\n",
       "      <td>12.000000</td>\n",
       "      <td>0.000000</td>\n",
       "    </tr>\n",
       "    <tr>\n",
       "      <th>75%</th>\n",
       "      <td>189000.250000</td>\n",
       "      <td>7.477502e+06</td>\n",
       "      <td>65.000000</td>\n",
       "      <td>15.000000</td>\n",
       "      <td>9.000000</td>\n",
       "      <td>13.000000</td>\n",
       "      <td>0.000000</td>\n",
       "    </tr>\n",
       "    <tr>\n",
       "      <th>max</th>\n",
       "      <td>252000.000000</td>\n",
       "      <td>9.999938e+06</td>\n",
       "      <td>79.000000</td>\n",
       "      <td>20.000000</td>\n",
       "      <td>14.000000</td>\n",
       "      <td>14.000000</td>\n",
       "      <td>1.000000</td>\n",
       "    </tr>\n",
       "  </tbody>\n",
       "</table>\n",
       "</div>"
      ],
      "text/plain": [
       "                  Id        Income            Age     Experience  \\\n",
       "count  252000.000000  2.520000e+05  252000.000000  252000.000000   \n",
       "mean   126000.500000  4.997117e+06      49.954071      10.084437   \n",
       "std     72746.278255  2.878311e+06      17.063855       6.002590   \n",
       "min         1.000000  1.031000e+04      21.000000       0.000000   \n",
       "25%     63000.750000  2.503015e+06      35.000000       5.000000   \n",
       "50%    126000.500000  5.000694e+06      50.000000      10.000000   \n",
       "75%    189000.250000  7.477502e+06      65.000000      15.000000   \n",
       "max    252000.000000  9.999938e+06      79.000000      20.000000   \n",
       "\n",
       "       CURRENT_JOB_YRS  CURRENT_HOUSE_YRS      Risk_Flag  \n",
       "count    252000.000000      252000.000000  252000.000000  \n",
       "mean          6.333877          11.997794       0.123000  \n",
       "std           3.647053           1.399037       0.328438  \n",
       "min           0.000000          10.000000       0.000000  \n",
       "25%           3.000000          11.000000       0.000000  \n",
       "50%           6.000000          12.000000       0.000000  \n",
       "75%           9.000000          13.000000       0.000000  \n",
       "max          14.000000          14.000000       1.000000  "
      ]
     },
     "execution_count": 15,
     "metadata": {},
     "output_type": "execute_result"
    }
   ],
   "source": [
    "df.describe()"
   ]
  },
  {
   "cell_type": "markdown",
   "id": "e238c906",
   "metadata": {
    "papermill": {
     "duration": 0.013969,
     "end_time": "2023-09-13T12:46:16.770194",
     "exception": false,
     "start_time": "2023-09-13T12:46:16.756225",
     "status": "completed"
    },
    "tags": []
   },
   "source": [
    "# Preprocessing + EDA + Feature Selection"
   ]
  },
  {
   "cell_type": "markdown",
   "id": "07087a9e",
   "metadata": {
    "papermill": {
     "duration": 0.013945,
     "end_time": "2023-09-13T12:46:16.798606",
     "exception": false,
     "start_time": "2023-09-13T12:46:16.784661",
     "status": "completed"
    },
    "tags": []
   },
   "source": [
    "### Is there any null values?"
   ]
  },
  {
   "cell_type": "code",
   "execution_count": 16,
   "id": "7b21a6a0",
   "metadata": {
    "execution": {
     "iopub.execute_input": "2023-09-13T12:46:16.827973Z",
     "iopub.status.busy": "2023-09-13T12:46:16.827564Z",
     "iopub.status.idle": "2023-09-13T12:46:16.907303Z",
     "shell.execute_reply": "2023-09-13T12:46:16.906119Z"
    },
    "papermill": {
     "duration": 0.096944,
     "end_time": "2023-09-13T12:46:16.909356",
     "exception": false,
     "start_time": "2023-09-13T12:46:16.812412",
     "status": "completed"
    },
    "tags": []
   },
   "outputs": [
    {
     "data": {
      "text/plain": [
       "Id                   0\n",
       "Income               0\n",
       "Age                  0\n",
       "Experience           0\n",
       "Married/Single       0\n",
       "House_Ownership      0\n",
       "Car_Ownership        0\n",
       "Profession           0\n",
       "CITY                 0\n",
       "STATE                0\n",
       "CURRENT_JOB_YRS      0\n",
       "CURRENT_HOUSE_YRS    0\n",
       "Risk_Flag            0\n",
       "dtype: int64"
      ]
     },
     "execution_count": 16,
     "metadata": {},
     "output_type": "execute_result"
    }
   ],
   "source": [
    "df.isnull().sum()"
   ]
  },
  {
   "cell_type": "markdown",
   "id": "17f07fc2",
   "metadata": {
    "papermill": {
     "duration": 0.019175,
     "end_time": "2023-09-13T12:46:16.943995",
     "exception": false,
     "start_time": "2023-09-13T12:46:16.924820",
     "status": "completed"
    },
    "tags": []
   },
   "source": [
    "### Is there any duplicate value?"
   ]
  },
  {
   "cell_type": "code",
   "execution_count": 17,
   "id": "ebbef0a9",
   "metadata": {
    "execution": {
     "iopub.execute_input": "2023-09-13T12:46:16.976737Z",
     "iopub.status.busy": "2023-09-13T12:46:16.975615Z",
     "iopub.status.idle": "2023-09-13T12:46:17.435095Z",
     "shell.execute_reply": "2023-09-13T12:46:17.433938Z"
    },
    "papermill": {
     "duration": 0.477576,
     "end_time": "2023-09-13T12:46:17.437850",
     "exception": false,
     "start_time": "2023-09-13T12:46:16.960274",
     "status": "completed"
    },
    "tags": []
   },
   "outputs": [
    {
     "name": "stdout",
     "output_type": "stream",
     "text": [
      "0\n"
     ]
    }
   ],
   "source": [
    "# duplicate rows\n",
    "print(df.duplicated().sum())\n",
    "\n",
    "#drop duplicates\n",
    "df.drop_duplicates(inplace=True)"
   ]
  },
  {
   "cell_type": "code",
   "execution_count": 18,
   "id": "b25b90ea",
   "metadata": {
    "execution": {
     "iopub.execute_input": "2023-09-13T12:46:17.468739Z",
     "iopub.status.busy": "2023-09-13T12:46:17.468312Z",
     "iopub.status.idle": "2023-09-13T12:46:17.675421Z",
     "shell.execute_reply": "2023-09-13T12:46:17.673998Z"
    },
    "papermill": {
     "duration": 0.224696,
     "end_time": "2023-09-13T12:46:17.677700",
     "exception": false,
     "start_time": "2023-09-13T12:46:17.453004",
     "status": "completed"
    },
    "tags": []
   },
   "outputs": [
    {
     "name": "stdout",
     "output_type": "stream",
     "text": [
      "0\n"
     ]
    }
   ],
   "source": [
    "# Check if the duplicate rows are removed\n",
    "print(df.duplicated().sum())"
   ]
  },
  {
   "cell_type": "code",
   "execution_count": 19,
   "id": "365a7b32",
   "metadata": {
    "execution": {
     "iopub.execute_input": "2023-09-13T12:46:17.707708Z",
     "iopub.status.busy": "2023-09-13T12:46:17.707098Z",
     "iopub.status.idle": "2023-09-13T12:46:17.714009Z",
     "shell.execute_reply": "2023-09-13T12:46:17.712916Z"
    },
    "papermill": {
     "duration": 0.024597,
     "end_time": "2023-09-13T12:46:17.716311",
     "exception": false,
     "start_time": "2023-09-13T12:46:17.691714",
     "status": "completed"
    },
    "tags": []
   },
   "outputs": [
    {
     "data": {
      "text/plain": [
       "Index(['Id', 'Income', 'Age', 'Experience', 'Married/Single',\n",
       "       'House_Ownership', 'Car_Ownership', 'Profession', 'CITY', 'STATE',\n",
       "       'CURRENT_JOB_YRS', 'CURRENT_HOUSE_YRS', 'Risk_Flag'],\n",
       "      dtype='object')"
      ]
     },
     "execution_count": 19,
     "metadata": {},
     "output_type": "execute_result"
    }
   ],
   "source": [
    "df.columns"
   ]
  },
  {
   "cell_type": "markdown",
   "id": "8dcb6d0b",
   "metadata": {
    "papermill": {
     "duration": 0.013721,
     "end_time": "2023-09-13T12:46:17.744314",
     "exception": false,
     "start_time": "2023-09-13T12:46:17.730593",
     "status": "completed"
    },
    "tags": []
   },
   "source": [
    "## EDA"
   ]
  },
  {
   "cell_type": "code",
   "execution_count": 20,
   "id": "e0a3c996",
   "metadata": {
    "execution": {
     "iopub.execute_input": "2023-09-13T12:46:17.774170Z",
     "iopub.status.busy": "2023-09-13T12:46:17.773535Z",
     "iopub.status.idle": "2023-09-13T12:46:20.022405Z",
     "shell.execute_reply": "2023-09-13T12:46:20.021068Z"
    },
    "papermill": {
     "duration": 2.267092,
     "end_time": "2023-09-13T12:46:20.025465",
     "exception": false,
     "start_time": "2023-09-13T12:46:17.758373",
     "status": "completed"
    },
    "tags": []
   },
   "outputs": [
    {
     "data": {
      "image/png": "[encoded data removed]",
      "text/plain": [
       "<Figure size 2200x2000 with 9 Axes>"
      ]
     },
     "metadata": {},
     "output_type": "display_data"
    }
   ],
   "source": [
    "df.hist( figsize = (22, 20) )\n",
    "plt.show()"
   ]
  },
  {
   "cell_type": "code",
   "execution_count": 21,
   "id": "54ee4c2b",
   "metadata": {
    "execution": {
     "iopub.execute_input": "2023-09-13T12:46:20.058832Z",
     "iopub.status.busy": "2023-09-13T12:46:20.058463Z",
     "iopub.status.idle": "2023-09-13T12:46:20.070876Z",
     "shell.execute_reply": "2023-09-13T12:46:20.069499Z"
    },
    "papermill": {
     "duration": 0.031771,
     "end_time": "2023-09-13T12:46:20.073182",
     "exception": false,
     "start_time": "2023-09-13T12:46:20.041411",
     "status": "completed"
    },
    "tags": []
   },
   "outputs": [
    {
     "data": {
      "text/plain": [
       "Risk_Flag\n",
       "0    221004\n",
       "1     30996\n",
       "Name: count, dtype: int64"
      ]
     },
     "execution_count": 21,
     "metadata": {},
     "output_type": "execute_result"
    }
   ],
   "source": [
    "df[\"Risk_Flag\"].value_counts()"
   ]
  },
  {
   "cell_type": "markdown",
   "id": "77103787",
   "metadata": {
    "papermill": {
     "duration": 0.015288,
     "end_time": "2023-09-13T12:46:20.104339",
     "exception": false,
     "start_time": "2023-09-13T12:46:20.089051",
     "status": "completed"
    },
    "tags": []
   },
   "source": [
    "## Convert Categorical Data to Numeric"
   ]
  },
  {
   "cell_type": "code",
   "execution_count": 22,
   "id": "7bfdde7d",
   "metadata": {
    "execution": {
     "iopub.execute_input": "2023-09-13T12:46:20.137371Z",
     "iopub.status.busy": "2023-09-13T12:46:20.136980Z",
     "iopub.status.idle": "2023-09-13T12:46:20.159636Z",
     "shell.execute_reply": "2023-09-13T12:46:20.158369Z"
    },
    "papermill": {
     "duration": 0.042318,
     "end_time": "2023-09-13T12:46:20.162430",
     "exception": false,
     "start_time": "2023-09-13T12:46:20.120112",
     "status": "completed"
    },
    "tags": []
   },
   "outputs": [
    {
     "data": {
      "text/plain": [
       "array(['single', 'married'], dtype=object)"
      ]
     },
     "execution_count": 22,
     "metadata": {},
     "output_type": "execute_result"
    }
   ],
   "source": [
    "df['Married/Single'].unique()"
   ]
  },
  {
   "cell_type": "code",
   "execution_count": 23,
   "id": "2ac8c3a1",
   "metadata": {
    "execution": {
     "iopub.execute_input": "2023-09-13T12:46:20.198572Z",
     "iopub.status.busy": "2023-09-13T12:46:20.198174Z",
     "iopub.status.idle": "2023-09-13T12:46:20.220783Z",
     "shell.execute_reply": "2023-09-13T12:46:20.219748Z"
    },
    "papermill": {
     "duration": 0.043335,
     "end_time": "2023-09-13T12:46:20.223169",
     "exception": false,
     "start_time": "2023-09-13T12:46:20.179834",
     "status": "completed"
    },
    "tags": []
   },
   "outputs": [],
   "source": [
    "# convert Married/Single column to numeric\n",
    "df['Married/Single'] = df['Married/Single'].map({'single': 0, 'married': 1})"
   ]
  },
  {
   "cell_type": "code",
   "execution_count": 24,
   "id": "7fa0259a",
   "metadata": {
    "execution": {
     "iopub.execute_input": "2023-09-13T12:46:20.256558Z",
     "iopub.status.busy": "2023-09-13T12:46:20.256205Z",
     "iopub.status.idle": "2023-09-13T12:46:20.277383Z",
     "shell.execute_reply": "2023-09-13T12:46:20.276479Z"
    },
    "papermill": {
     "duration": 0.040386,
     "end_time": "2023-09-13T12:46:20.279505",
     "exception": false,
     "start_time": "2023-09-13T12:46:20.239119",
     "status": "completed"
    },
    "tags": []
   },
   "outputs": [
    {
     "data": {
      "text/plain": [
       "array(['rented', 'norent_noown', 'owned'], dtype=object)"
      ]
     },
     "execution_count": 24,
     "metadata": {},
     "output_type": "execute_result"
    }
   ],
   "source": [
    "df['House_Ownership'].unique()"
   ]
  },
  {
   "cell_type": "code",
   "execution_count": 25,
   "id": "ecd2ec38",
   "metadata": {
    "execution": {
     "iopub.execute_input": "2023-09-13T12:46:20.316762Z",
     "iopub.status.busy": "2023-09-13T12:46:20.316384Z",
     "iopub.status.idle": "2023-09-13T12:46:20.349574Z",
     "shell.execute_reply": "2023-09-13T12:46:20.348127Z"
    },
    "papermill": {
     "duration": 0.057328,
     "end_time": "2023-09-13T12:46:20.353092",
     "exception": false,
     "start_time": "2023-09-13T12:46:20.295764",
     "status": "completed"
    },
    "tags": []
   },
   "outputs": [],
   "source": [
    "# convert Married/Single column to numeric\n",
    "df['House_Ownership'] = df['House_Ownership'].map({'norent_noown': 0, 'rented': 1, 'owned': 2})"
   ]
  },
  {
   "cell_type": "code",
   "execution_count": 26,
   "id": "5544f29f",
   "metadata": {
    "execution": {
     "iopub.execute_input": "2023-09-13T12:46:20.393343Z",
     "iopub.status.busy": "2023-09-13T12:46:20.392832Z",
     "iopub.status.idle": "2023-09-13T12:46:20.420412Z",
     "shell.execute_reply": "2023-09-13T12:46:20.419254Z"
    },
    "papermill": {
     "duration": 0.048158,
     "end_time": "2023-09-13T12:46:20.422828",
     "exception": false,
     "start_time": "2023-09-13T12:46:20.374670",
     "status": "completed"
    },
    "tags": []
   },
   "outputs": [
    {
     "data": {
      "text/plain": [
       "array(['no', 'yes'], dtype=object)"
      ]
     },
     "execution_count": 26,
     "metadata": {},
     "output_type": "execute_result"
    }
   ],
   "source": [
    "df['Car_Ownership'].unique()"
   ]
  },
  {
   "cell_type": "code",
   "execution_count": 27,
   "id": "c71bf062",
   "metadata": {
    "execution": {
     "iopub.execute_input": "2023-09-13T12:46:20.462683Z",
     "iopub.status.busy": "2023-09-13T12:46:20.461974Z",
     "iopub.status.idle": "2023-09-13T12:46:20.483147Z",
     "shell.execute_reply": "2023-09-13T12:46:20.482112Z"
    },
    "papermill": {
     "duration": 0.047198,
     "end_time": "2023-09-13T12:46:20.486443",
     "exception": false,
     "start_time": "2023-09-13T12:46:20.439245",
     "status": "completed"
    },
    "tags": []
   },
   "outputs": [],
   "source": [
    "# convert Married/Single column to numeric\n",
    "df['Car_Ownership'] = df['Car_Ownership'].map({'no': 0, 'yes': 1})"
   ]
  },
  {
   "cell_type": "code",
   "execution_count": 28,
   "id": "3e8b6766",
   "metadata": {
    "execution": {
     "iopub.execute_input": "2023-09-13T12:46:20.531900Z",
     "iopub.status.busy": "2023-09-13T12:46:20.530915Z",
     "iopub.status.idle": "2023-09-13T12:46:20.562163Z",
     "shell.execute_reply": "2023-09-13T12:46:20.560873Z"
    },
    "papermill": {
     "duration": 0.052594,
     "end_time": "2023-09-13T12:46:20.564803",
     "exception": false,
     "start_time": "2023-09-13T12:46:20.512209",
     "status": "completed"
    },
    "tags": []
   },
   "outputs": [
    {
     "data": {
      "text/plain": [
       "array(['Mechanical_engineer', 'Software_Developer', 'Technical_writer',\n",
       "       'Civil_servant', 'Librarian', 'Economist', 'Flight_attendant',\n",
       "       'Architect', 'Designer', 'Physician', 'Financial_Analyst',\n",
       "       'Air_traffic_controller', 'Politician', 'Police_officer', 'Artist',\n",
       "       'Surveyor', 'Design_Engineer', 'Chemical_engineer',\n",
       "       'Hotel_Manager', 'Dentist', 'Comedian', 'Biomedical_Engineer',\n",
       "       'Graphic_Designer', 'Computer_hardware_engineer',\n",
       "       'Petroleum_Engineer', 'Secretary', 'Computer_operator',\n",
       "       'Chartered_Accountant', 'Technician', 'Microbiologist',\n",
       "       'Fashion_Designer', 'Aviator', 'Psychologist', 'Magistrate',\n",
       "       'Lawyer', 'Firefighter', 'Engineer', 'Official', 'Analyst',\n",
       "       'Geologist', 'Drafter', 'Statistician', 'Web_designer',\n",
       "       'Consultant', 'Chef', 'Army_officer', 'Surgeon', 'Scientist',\n",
       "       'Civil_engineer', 'Industrial_Engineer', 'Technology_specialist'],\n",
       "      dtype=object)"
      ]
     },
     "execution_count": 28,
     "metadata": {},
     "output_type": "execute_result"
    }
   ],
   "source": [
    "df['Profession'].unique()"
   ]
  },
  {
   "cell_type": "code",
   "execution_count": 29,
   "id": "55cb8661",
   "metadata": {
    "execution": {
     "iopub.execute_input": "2023-09-13T12:46:20.607089Z",
     "iopub.status.busy": "2023-09-13T12:46:20.604342Z",
     "iopub.status.idle": "2023-09-13T12:46:20.634479Z",
     "shell.execute_reply": "2023-09-13T12:46:20.633436Z"
    },
    "papermill": {
     "duration": 0.05451,
     "end_time": "2023-09-13T12:46:20.636698",
     "exception": false,
     "start_time": "2023-09-13T12:46:20.582188",
     "status": "completed"
    },
    "tags": []
   },
   "outputs": [
    {
     "data": {
      "text/plain": [
       "array(['Rewa', 'Parbhani', 'Alappuzha', 'Bhubaneswar',\n",
       "       'Tiruchirappalli[10]', 'Jalgaon', 'Tiruppur', 'Jamnagar',\n",
       "       'Kota[6]', 'Karimnagar', 'Hajipur[31]', 'Adoni', 'Erode[17]',\n",
       "       'Kollam', 'Madurai', 'Anantapuram[24]', 'Kamarhati', 'Bhusawal',\n",
       "       'Sirsa', 'Amaravati', 'Secunderabad', 'Ahmedabad', 'Ajmer',\n",
       "       'Ongole', 'Miryalaguda', 'Ambattur', 'Indore', 'Pondicherry',\n",
       "       'Shimoga', 'Chennai', 'Gulbarga', 'Khammam', 'Saharanpur',\n",
       "       'Gopalpur', 'Amravati', 'Udupi', 'Howrah', 'Aurangabad[39]',\n",
       "       'Hospet', 'Shimla', 'Khandwa', 'Bidhannagar', 'Bellary', 'Danapur',\n",
       "       'Purnia[26]', 'Bijapur', 'Patiala', 'Malda', 'Sagar', 'Durgapur',\n",
       "       'Junagadh', 'Singrauli', 'Agartala', 'Thanjavur', 'Hindupur',\n",
       "       'Naihati', 'North_Dumdum', 'Panchkula', 'Anantapur', 'Serampore',\n",
       "       'Bathinda', 'Nadiad', 'Kanpur', 'Haridwar', 'Berhampur',\n",
       "       'Jamshedpur', 'Hyderabad', 'Bidar', 'Kottayam', 'Solapur',\n",
       "       'Suryapet', 'Aizawl', 'Asansol', 'Deoghar', 'Eluru[25]',\n",
       "       'Ulhasnagar', 'Aligarh', 'South_Dumdum', 'Berhampore',\n",
       "       'Gandhinagar', 'Sonipat', 'Muzaffarpur', 'Raichur',\n",
       "       'Rajpur_Sonarpur', 'Ambarnath', 'Katihar', 'Kozhikode', 'Vellore',\n",
       "       'Malegaon', 'Kochi', 'Nagaon', 'Nagpur', 'Srinagar', 'Davanagere',\n",
       "       'Bhagalpur', 'Siwan[32]', 'Meerut', 'Dindigul', 'Bhatpara',\n",
       "       'Ghaziabad', 'Kulti', 'Chapra', 'Dibrugarh', 'Panihati',\n",
       "       'Bhiwandi', 'Morbi', 'Kalyan-Dombivli', 'Gorakhpur', 'Panvel',\n",
       "       'Siliguri', 'Bongaigaon', 'Patna', 'Ramgarh', 'Ozhukarai',\n",
       "       'Mirzapur', 'Akola', 'Satna', 'Motihari[34]', 'Jalna', 'Jalandhar',\n",
       "       'Unnao', 'Karnal', 'Cuttack', 'Proddatur', 'Ichalkaranji',\n",
       "       'Warangal[11][12]', 'Jhansi', 'Bulandshahr', 'Narasaraopet',\n",
       "       'Chinsurah', 'Jehanabad[38]', 'Dhanbad', 'Gudivada', 'Gandhidham',\n",
       "       'Raiganj', 'Kishanganj[35]', 'Varanasi', 'Belgaum',\n",
       "       'Tirupati[21][22]', 'Tumkur', 'Coimbatore', 'Kurnool[18]',\n",
       "       'Gurgaon', 'Muzaffarnagar', 'Aurangabad', 'Bhavnagar', 'Arrah',\n",
       "       'Munger', 'Tirunelveli', 'Mumbai', 'Mango', 'Nashik', 'Kadapa[23]',\n",
       "       'Amritsar', 'Khora,_Ghaziabad', 'Ambala', 'Agra', 'Ratlam',\n",
       "       'Surendranagar_Dudhrej', 'Delhi_city', 'Bhopal', 'Hapur', 'Rohtak',\n",
       "       'Durg', 'Korba', 'Bangalore', 'Shivpuri', 'Thrissur',\n",
       "       'Vijayanagaram', 'Farrukhabad', 'Nangloi_Jat', 'Madanapalle',\n",
       "       'Thoothukudi', 'Nagercoil', 'Gaya', 'Chandigarh_city', 'Jammu[16]',\n",
       "       'Kakinada', 'Dewas', 'Bhalswa_Jahangir_Pur', 'Baranagar',\n",
       "       'Firozabad', 'Phusro', 'Allahabad', 'Guna', 'Thane', 'Etawah',\n",
       "       'Vasai-Virar', 'Pallavaram', 'Morena', 'Ballia', 'Surat',\n",
       "       'Burhanpur', 'Phagwara', 'Mau', 'Mangalore', 'Alwar',\n",
       "       'Mahbubnagar', 'Maheshtala', 'Hazaribagh', 'Bihar_Sharif',\n",
       "       'Faridabad', 'Lucknow', 'Tenali', 'Barasat', 'Amroha', 'Giridih',\n",
       "       'Begusarai', 'Medininagar', 'Rajahmundry[19][20]', 'Saharsa[29]',\n",
       "       'New_Delhi', 'Bhilai', 'Moradabad', 'Machilipatnam',\n",
       "       'Mira-Bhayandar', 'Pali', 'Navi_Mumbai', 'Mehsana', 'Imphal',\n",
       "       'Kolkata', 'Sambalpur', 'Ujjain', 'Madhyamgram', 'Jabalpur',\n",
       "       'Jamalpur[36]', 'Ludhiana', 'Bareilly', 'Gangtok', 'Anand',\n",
       "       'Dehradun', 'Pune', 'Satara', 'Srikakulam', 'Raipur', 'Jodhpur',\n",
       "       'Darbhanga', 'Nizamabad', 'Nandyal', 'Dehri[30]', 'Jorhat',\n",
       "       'Ranchi', 'Kumbakonam', 'Guntakal', 'Haldia', 'Loni',\n",
       "       'Pimpri-Chinchwad', 'Rajkot', 'Nanded', 'Noida',\n",
       "       'Kirari_Suleman_Nagar', 'Jaunpur', 'Bilaspur', 'Sambhal', 'Dhule',\n",
       "       'Rourkela', 'Thiruvananthapuram', 'Dharmavaram', 'Nellore[14][15]',\n",
       "       'Visakhapatnam[4]', 'Karawal_Nagar', 'Jaipur', 'Avadi',\n",
       "       'Bhimavaram', 'Bardhaman', 'Silchar', 'Buxar[37]', 'Kavali',\n",
       "       'Tezpur', 'Ramagundam[27]', 'Yamunanagar', 'Sri_Ganganagar',\n",
       "       'Sasaram[30]', 'Sikar', 'Bally', 'Bhiwani', 'Rampur', 'Uluberia',\n",
       "       'Sangli-Miraj_&_Kupwad', 'Hosur', 'Bikaner', 'Shahjahanpur',\n",
       "       'Sultan_Pur_Majra', 'Vijayawada', 'Bharatpur', 'Tadepalligudem',\n",
       "       'Tinsukia', 'Salem', 'Mathura', 'Guntur[13]', 'Hubliâ€“Dharwad',\n",
       "       'Guwahati', 'Chittoor[28]', 'Tiruvottiyur', 'Vadodara',\n",
       "       'Ahmednagar', 'Fatehpur', 'Bhilwara', 'Kharagpur', 'Bettiah[33]',\n",
       "       'Bhind', 'Bokaro', 'Karaikudi', 'Raebareli', 'Pudukkottai',\n",
       "       'Udaipur', 'Mysore[7][8][9]', 'Panipat', 'Latur', 'Tadipatri',\n",
       "       'Bahraich', 'Orai', 'Raurkela_Industrial_Township', 'Gwalior',\n",
       "       'Katni', 'Chandrapur', 'Kolhapur'], dtype=object)"
      ]
     },
     "execution_count": 29,
     "metadata": {},
     "output_type": "execute_result"
    }
   ],
   "source": [
    "df['CITY'].unique()"
   ]
  },
  {
   "cell_type": "code",
   "execution_count": 30,
   "id": "7ddcc370",
   "metadata": {
    "execution": {
     "iopub.execute_input": "2023-09-13T12:46:20.671979Z",
     "iopub.status.busy": "2023-09-13T12:46:20.671102Z",
     "iopub.status.idle": "2023-09-13T12:46:20.699720Z",
     "shell.execute_reply": "2023-09-13T12:46:20.698939Z"
    },
    "papermill": {
     "duration": 0.048998,
     "end_time": "2023-09-13T12:46:20.702273",
     "exception": false,
     "start_time": "2023-09-13T12:46:20.653275",
     "status": "completed"
    },
    "tags": []
   },
   "outputs": [
    {
     "data": {
      "text/plain": [
       "array(['Madhya_Pradesh', 'Maharashtra', 'Kerala', 'Odisha', 'Tamil_Nadu',\n",
       "       'Gujarat', 'Rajasthan', 'Telangana', 'Bihar', 'Andhra_Pradesh',\n",
       "       'West_Bengal', 'Haryana', 'Puducherry', 'Karnataka',\n",
       "       'Uttar_Pradesh', 'Himachal_Pradesh', 'Punjab', 'Tripura',\n",
       "       'Uttarakhand', 'Jharkhand', 'Mizoram', 'Assam',\n",
       "       'Jammu_and_Kashmir', 'Delhi', 'Chhattisgarh', 'Chandigarh',\n",
       "       'Uttar_Pradesh[5]', 'Manipur', 'Sikkim'], dtype=object)"
      ]
     },
     "execution_count": 30,
     "metadata": {},
     "output_type": "execute_result"
    }
   ],
   "source": [
    "df['STATE'].unique()"
   ]
  },
  {
   "cell_type": "code",
   "execution_count": 31,
   "id": "e6699e9c",
   "metadata": {
    "execution": {
     "iopub.execute_input": "2023-09-13T12:46:20.744162Z",
     "iopub.status.busy": "2023-09-13T12:46:20.743795Z",
     "iopub.status.idle": "2023-09-13T12:46:21.827742Z",
     "shell.execute_reply": "2023-09-13T12:46:21.826473Z"
    },
    "papermill": {
     "duration": 1.105263,
     "end_time": "2023-09-13T12:46:21.830350",
     "exception": false,
     "start_time": "2023-09-13T12:46:20.725087",
     "status": "completed"
    },
    "tags": []
   },
   "outputs": [],
   "source": [
    "high_card_features = ['Profession', 'CITY', 'STATE']\n",
    "count_encoder = ce.CountEncoder()\n",
    "\n",
    "# Transform the features, rename the columns with the _count suffix, and join to dataframe\n",
    "count_encoded = count_encoder.fit_transform( df[high_card_features] )\n",
    "df = df.join(count_encoded.add_suffix(\"_count\"))\n",
    "df= df.drop(labels=['Profession', 'CITY', 'STATE'], axis=1)"
   ]
  },
  {
   "cell_type": "code",
   "execution_count": 32,
   "id": "294be042",
   "metadata": {
    "execution": {
     "iopub.execute_input": "2023-09-13T12:46:21.866769Z",
     "iopub.status.busy": "2023-09-13T12:46:21.866397Z",
     "iopub.status.idle": "2023-09-13T12:46:21.881249Z",
     "shell.execute_reply": "2023-09-13T12:46:21.880454Z"
    },
    "papermill": {
     "duration": 0.035673,
     "end_time": "2023-09-13T12:46:21.883100",
     "exception": false,
     "start_time": "2023-09-13T12:46:21.847427",
     "status": "completed"
    },
    "tags": []
   },
   "outputs": [
    {
     "data": {
      "text/html": [
       "<div>\n",
       "<style scoped>\n",
       "    .dataframe tbody tr th:only-of-type {\n",
       "        vertical-align: middle;\n",
       "    }\n",
       "\n",
       "    .dataframe tbody tr th {\n",
       "        vertical-align: top;\n",
       "    }\n",
       "\n",
       "    .dataframe thead th {\n",
       "        text-align: right;\n",
       "    }\n",
       "</style>\n",
       "<table border=\"1\" class=\"dataframe\">\n",
       "  <thead>\n",
       "    <tr style=\"text-align: right;\">\n",
       "      <th></th>\n",
       "      <th>Id</th>\n",
       "      <th>Income</th>\n",
       "      <th>Age</th>\n",
       "      <th>Experience</th>\n",
       "      <th>Married/Single</th>\n",
       "      <th>House_Ownership</th>\n",
       "      <th>Car_Ownership</th>\n",
       "      <th>CURRENT_JOB_YRS</th>\n",
       "      <th>CURRENT_HOUSE_YRS</th>\n",
       "      <th>Risk_Flag</th>\n",
       "      <th>Profession_count</th>\n",
       "      <th>CITY_count</th>\n",
       "      <th>STATE_count</th>\n",
       "    </tr>\n",
       "  </thead>\n",
       "  <tbody>\n",
       "    <tr>\n",
       "      <th>0</th>\n",
       "      <td>1</td>\n",
       "      <td>1303834</td>\n",
       "      <td>23</td>\n",
       "      <td>3</td>\n",
       "      <td>0</td>\n",
       "      <td>1</td>\n",
       "      <td>0</td>\n",
       "      <td>3</td>\n",
       "      <td>13</td>\n",
       "      <td>0</td>\n",
       "      <td>5217</td>\n",
       "      <td>798</td>\n",
       "      <td>14122</td>\n",
       "    </tr>\n",
       "    <tr>\n",
       "      <th>1</th>\n",
       "      <td>2</td>\n",
       "      <td>7574516</td>\n",
       "      <td>40</td>\n",
       "      <td>10</td>\n",
       "      <td>0</td>\n",
       "      <td>1</td>\n",
       "      <td>0</td>\n",
       "      <td>9</td>\n",
       "      <td>13</td>\n",
       "      <td>0</td>\n",
       "      <td>5053</td>\n",
       "      <td>849</td>\n",
       "      <td>25562</td>\n",
       "    </tr>\n",
       "    <tr>\n",
       "      <th>2</th>\n",
       "      <td>3</td>\n",
       "      <td>3991815</td>\n",
       "      <td>66</td>\n",
       "      <td>4</td>\n",
       "      <td>1</td>\n",
       "      <td>1</td>\n",
       "      <td>0</td>\n",
       "      <td>4</td>\n",
       "      <td>10</td>\n",
       "      <td>0</td>\n",
       "      <td>5195</td>\n",
       "      <td>688</td>\n",
       "      <td>5805</td>\n",
       "    </tr>\n",
       "    <tr>\n",
       "      <th>3</th>\n",
       "      <td>4</td>\n",
       "      <td>6256451</td>\n",
       "      <td>41</td>\n",
       "      <td>2</td>\n",
       "      <td>0</td>\n",
       "      <td>1</td>\n",
       "      <td>1</td>\n",
       "      <td>2</td>\n",
       "      <td>12</td>\n",
       "      <td>1</td>\n",
       "      <td>5053</td>\n",
       "      <td>607</td>\n",
       "      <td>4658</td>\n",
       "    </tr>\n",
       "    <tr>\n",
       "      <th>4</th>\n",
       "      <td>5</td>\n",
       "      <td>5768871</td>\n",
       "      <td>47</td>\n",
       "      <td>11</td>\n",
       "      <td>0</td>\n",
       "      <td>1</td>\n",
       "      <td>0</td>\n",
       "      <td>3</td>\n",
       "      <td>14</td>\n",
       "      <td>1</td>\n",
       "      <td>4413</td>\n",
       "      <td>809</td>\n",
       "      <td>16537</td>\n",
       "    </tr>\n",
       "  </tbody>\n",
       "</table>\n",
       "</div>"
      ],
      "text/plain": [
       "   Id   Income  Age  Experience  Married/Single  House_Ownership  \\\n",
       "0   1  1303834   23           3               0                1   \n",
       "1   2  7574516   40          10               0                1   \n",
       "2   3  3991815   66           4               1                1   \n",
       "3   4  6256451   41           2               0                1   \n",
       "4   5  5768871   47          11               0                1   \n",
       "\n",
       "   Car_Ownership  CURRENT_JOB_YRS  CURRENT_HOUSE_YRS  Risk_Flag  \\\n",
       "0              0                3                 13          0   \n",
       "1              0                9                 13          0   \n",
       "2              0                4                 10          0   \n",
       "3              1                2                 12          1   \n",
       "4              0                3                 14          1   \n",
       "\n",
       "   Profession_count  CITY_count  STATE_count  \n",
       "0              5217         798        14122  \n",
       "1              5053         849        25562  \n",
       "2              5195         688         5805  \n",
       "3              5053         607         4658  \n",
       "4              4413         809        16537  "
      ]
     },
     "execution_count": 32,
     "metadata": {},
     "output_type": "execute_result"
    }
   ],
   "source": [
    "df.head()"
   ]
  },
  {
   "cell_type": "markdown",
   "id": "45658353",
   "metadata": {
    "papermill": {
     "duration": 0.01665,
     "end_time": "2023-09-13T12:46:21.916686",
     "exception": false,
     "start_time": "2023-09-13T12:46:21.900036",
     "status": "completed"
    },
    "tags": []
   },
   "source": [
    "### How is the correlation between features(other Colms) and target col?"
   ]
  },
  {
   "cell_type": "code",
   "execution_count": 33,
   "id": "fa0e6c90",
   "metadata": {
    "execution": {
     "iopub.execute_input": "2023-09-13T12:46:21.953078Z",
     "iopub.status.busy": "2023-09-13T12:46:21.951799Z",
     "iopub.status.idle": "2023-09-13T12:46:21.965912Z",
     "shell.execute_reply": "2023-09-13T12:46:21.964793Z"
    },
    "papermill": {
     "duration": 0.03474,
     "end_time": "2023-09-13T12:46:21.968452",
     "exception": false,
     "start_time": "2023-09-13T12:46:21.933712",
     "status": "completed"
    },
    "tags": []
   },
   "outputs": [],
   "source": [
    "df = df.drop(['Id'], axis=1)"
   ]
  },
  {
   "cell_type": "code",
   "execution_count": 34,
   "id": "ad708814",
   "metadata": {
    "execution": {
     "iopub.execute_input": "2023-09-13T12:46:22.004658Z",
     "iopub.status.busy": "2023-09-13T12:46:22.004254Z",
     "iopub.status.idle": "2023-09-13T12:46:22.136926Z",
     "shell.execute_reply": "2023-09-13T12:46:22.136049Z"
    },
    "papermill": {
     "duration": 0.153146,
     "end_time": "2023-09-13T12:46:22.139029",
     "exception": false,
     "start_time": "2023-09-13T12:46:21.985883",
     "status": "completed"
    },
    "tags": []
   },
   "outputs": [
    {
     "data": {
      "text/plain": [
       "Income              -0.003091\n",
       "Age                 -0.021809\n",
       "Experience          -0.034523\n",
       "Married/Single      -0.021092\n",
       "House_Ownership     -0.011171\n",
       "Car_Ownership       -0.024036\n",
       "CURRENT_JOB_YRS     -0.016942\n",
       "CURRENT_HOUSE_YRS   -0.004375\n",
       "Risk_Flag            1.000000\n",
       "Profession_count    -0.008587\n",
       "CITY_count          -0.005025\n",
       "STATE_count         -0.011776\n",
       "Name: Risk_Flag, dtype: float64"
      ]
     },
     "execution_count": 34,
     "metadata": {},
     "output_type": "execute_result"
    }
   ],
   "source": [
    "df.corr()['Risk_Flag']"
   ]
  },
  {
   "cell_type": "code",
   "execution_count": 35,
   "id": "43c4ecfd",
   "metadata": {
    "execution": {
     "iopub.execute_input": "2023-09-13T12:46:22.175807Z",
     "iopub.status.busy": "2023-09-13T12:46:22.174700Z",
     "iopub.status.idle": "2023-09-13T12:46:23.120139Z",
     "shell.execute_reply": "2023-09-13T12:46:23.119016Z"
    },
    "papermill": {
     "duration": 0.96698,
     "end_time": "2023-09-13T12:46:23.123394",
     "exception": false,
     "start_time": "2023-09-13T12:46:22.156414",
     "status": "completed"
    },
    "tags": []
   },
   "outputs": [
    {
     "data": {
      "image/png": "[encoded data removed]",
      "text/plain": [
       "<Figure size 1200x800 with 2 Axes>"
      ]
     },
     "metadata": {},
     "output_type": "display_data"
    }
   ],
   "source": [
    "fig, ax = plt.subplots( figsize = (12,8) )\n",
    "corr_matrix = df.corr()\n",
    "corr_heatmap = sns.heatmap( corr_matrix, cmap = \"flare\", annot=True, ax=ax, annot_kws={\"size\": 14})\n",
    "plt.show()"
   ]
  },
  {
   "cell_type": "markdown",
   "id": "087bff69",
   "metadata": {
    "papermill": {
     "duration": 0.020989,
     "end_time": "2023-09-13T12:46:23.165335",
     "exception": false,
     "start_time": "2023-09-13T12:46:23.144346",
     "status": "completed"
    },
    "tags": []
   },
   "source": [
    "#  Extract input and output cols and perform Train test split"
   ]
  },
  {
   "cell_type": "code",
   "execution_count": 36,
   "id": "88a9ad49",
   "metadata": {
    "execution": {
     "iopub.execute_input": "2023-09-13T12:46:23.208484Z",
     "iopub.status.busy": "2023-09-13T12:46:23.207324Z",
     "iopub.status.idle": "2023-09-13T12:46:23.357947Z",
     "shell.execute_reply": "2023-09-13T12:46:23.356843Z"
    },
    "papermill": {
     "duration": 0.174832,
     "end_time": "2023-09-13T12:46:23.360605",
     "exception": false,
     "start_time": "2023-09-13T12:46:23.185773",
     "status": "completed"
    },
    "tags": []
   },
   "outputs": [],
   "source": [
    "x = df.drop(\"Risk_Flag\", axis=1)\n",
    "y = df[\"Risk_Flag\"]\n",
    "\n",
    "from sklearn.model_selection import train_test_split\n",
    "X_train,X_test,y_train,y_test = train_test_split(x, y, test_size = 0.2, stratify = y,random_state = 7)"
   ]
  },
  {
   "cell_type": "markdown",
   "id": "2358b55d",
   "metadata": {
    "papermill": {
     "duration": 0.02021,
     "end_time": "2023-09-13T12:46:23.401307",
     "exception": false,
     "start_time": "2023-09-13T12:46:23.381097",
     "status": "completed"
    },
    "tags": []
   },
   "source": [
    "### Perform Scalling"
   ]
  },
  {
   "cell_type": "code",
   "execution_count": 37,
   "id": "f981e0e1",
   "metadata": {
    "execution": {
     "iopub.execute_input": "2023-09-13T12:46:23.443832Z",
     "iopub.status.busy": "2023-09-13T12:46:23.443476Z",
     "iopub.status.idle": "2023-09-13T12:46:23.519588Z",
     "shell.execute_reply": "2023-09-13T12:46:23.518454Z"
    },
    "papermill": {
     "duration": 0.10028,
     "end_time": "2023-09-13T12:46:23.522253",
     "exception": false,
     "start_time": "2023-09-13T12:46:23.421973",
     "status": "completed"
    },
    "tags": []
   },
   "outputs": [],
   "source": [
    "scaler = StandardScaler()\n",
    "X_train_scale = scaler.fit_transform(X_train)\n",
    "X_test_scale = scaler.transform(X_test)"
   ]
  },
  {
   "cell_type": "markdown",
   "id": "d7f0acf1",
   "metadata": {
    "papermill": {
     "duration": 0.019977,
     "end_time": "2023-09-13T12:46:23.562562",
     "exception": false,
     "start_time": "2023-09-13T12:46:23.542585",
     "status": "completed"
    },
    "tags": []
   },
   "source": [
    "# Train and Evaluate the model"
   ]
  },
  {
   "cell_type": "code",
   "execution_count": 38,
   "id": "e7d7af59",
   "metadata": {
    "execution": {
     "iopub.execute_input": "2023-09-13T12:46:23.605129Z",
     "iopub.status.busy": "2023-09-13T12:46:23.604723Z",
     "iopub.status.idle": "2023-09-13T12:47:43.115097Z",
     "shell.execute_reply": "2023-09-13T12:47:43.113754Z"
    },
    "papermill": {
     "duration": 79.550126,
     "end_time": "2023-09-13T12:47:43.133275",
     "exception": false,
     "start_time": "2023-09-13T12:46:23.583149",
     "status": "completed"
    },
    "tags": []
   },
   "outputs": [
    {
     "name": "stdout",
     "output_type": "stream",
     "text": [
      "With Scaling:  0.8803571428571428\n",
      "-------------------------TEST SCORES-----------------------\n",
      "Recall: 0.042103565091143734\n",
      "Precision: 0.7393767705382436\n",
      "F1-Score: 0.07967032967032966\n",
      "Accuracy score: 0.8803571428571428\n",
      "AUC Score: 0.5200110821089301\n"
     ]
    }
   ],
   "source": [
    "# https://scikit-learn.org/stable/modules/generated/sklearn.ensemble.RandomForestClassifier.html\n",
    "from sklearn.ensemble import RandomForestClassifier\n",
    "\n",
    "clf = RandomForestClassifier(criterion='gini', bootstrap=True, max_depth=10, max_features=None, min_samples_split=2, n_estimators=100, random_state=100)\n",
    "\n",
    "# With Scaling \n",
    "clf.fit(X_train_scale,y_train) \n",
    "y_pred = clf.predict(X_test_scale)\n",
    "print(\"With Scaling: \",accuracy_score(y_test,y_pred))\n",
    "\n",
    "print(\"-------------------------TEST SCORES-----------------------\") \n",
    "print(f\"Recall: { recall_score(y_test, y_pred) }\")\n",
    "print(f\"Precision: { precision_score(y_test, y_pred) }\")\n",
    "print(f\"F1-Score: { f1_score(y_test, y_pred) }\")\n",
    "print(f\"Accuracy score: { accuracy_score(y_test, y_pred) }\")\n",
    "print(f\"AUC Score: { roc_auc_score(y_test, y_pred) }\")\n"
   ]
  },
  {
   "cell_type": "code",
   "execution_count": 43,
   "id": "bb3ffeaf",
   "metadata": {},
   "outputs": [
    {
     "data": {
      "image/png": "[encoded data removed]",
      "text/plain": [
       "<Figure size 640x480 with 2 Axes>"
      ]
     },
     "metadata": {},
     "output_type": "display_data"
    }
   ],
   "source": [
    "# confusion matrix\n",
    "cm = confusion_matrix(y_test, y_pred)\n",
    "\n",
    "sns.heatmap(cm, annot=True, fmt='d', cmap='Blues')\n",
    "plt.xlabel('Predicted')\n",
    "plt.ylabel('Actual')\n",
    "plt.title('Confusion Matrix')\n",
    "plt.show()\n",
    "\n"
   ]
  },
  {
   "cell_type": "markdown",
   "id": "c708c090",
   "metadata": {
    "papermill": {
     "duration": 0.020047,
     "end_time": "2023-09-13T12:47:43.261627",
     "exception": false,
     "start_time": "2023-09-13T12:47:43.241580",
     "status": "completed"
    },
    "tags": []
   },
   "source": [
    "# Train and Evaluate the model with best parameters"
   ]
  },
  {
   "cell_type": "code",
   "execution_count": 39,
   "id": "3e286436",
   "metadata": {
    "execution": {
     "iopub.execute_input": "2023-09-13T12:47:43.303977Z",
     "iopub.status.busy": "2023-09-13T12:47:43.303597Z",
     "iopub.status.idle": "2023-09-13T12:49:31.006044Z",
     "shell.execute_reply": "2023-09-13T12:49:31.004865Z"
    },
    "papermill": {
     "duration": 107.746353,
     "end_time": "2023-09-13T12:49:31.028089",
     "exception": false,
     "start_time": "2023-09-13T12:47:43.281736",
     "status": "completed"
    },
    "tags": []
   },
   "outputs": [
    {
     "ename": "KeyboardInterrupt",
     "evalue": "",
     "output_type": "error",
     "traceback": [
      "\u001b[1;31m---------------------------------------------------------------------------\u001b[0m",
      "\u001b[1;31mKeyboardInterrupt\u001b[0m                         Traceback (most recent call last)",
      "Cell \u001b[1;32mIn[39], line 5\u001b[0m\n\u001b[0;32m      3\u001b[0m clf \u001b[38;5;241m=\u001b[39m RandomForestClassifier(criterion\u001b[38;5;241m=\u001b[39m\u001b[38;5;124m'\u001b[39m\u001b[38;5;124mgini\u001b[39m\u001b[38;5;124m'\u001b[39m, bootstrap \u001b[38;5;241m=\u001b[39m \u001b[38;5;28;01mTrue\u001b[39;00m, max_depth \u001b[38;5;241m=\u001b[39m \u001b[38;5;241m20\u001b[39m, max_features \u001b[38;5;241m=\u001b[39m \u001b[38;5;28;01mNone\u001b[39;00m, min_samples_split\u001b[38;5;241m=\u001b[39m\u001b[38;5;241m10\u001b[39m,n_estimators \u001b[38;5;241m=\u001b[39m \u001b[38;5;241m100\u001b[39m, random_state\u001b[38;5;241m=\u001b[39m\u001b[38;5;241m100\u001b[39m)\n\u001b[0;32m      4\u001b[0m \u001b[38;5;66;03m# With Scaling \u001b[39;00m\n\u001b[1;32m----> 5\u001b[0m \u001b[43mclf\u001b[49m\u001b[38;5;241;43m.\u001b[39;49m\u001b[43mfit\u001b[49m\u001b[43m(\u001b[49m\u001b[43mX_train_scale\u001b[49m\u001b[43m,\u001b[49m\u001b[43my_train\u001b[49m\u001b[43m)\u001b[49m \n\u001b[0;32m      6\u001b[0m y_pred \u001b[38;5;241m=\u001b[39m clf\u001b[38;5;241m.\u001b[39mpredict(X_test_scale)\n\u001b[0;32m      7\u001b[0m \u001b[38;5;28mprint\u001b[39m(\u001b[38;5;124m\"\u001b[39m\u001b[38;5;124mWith Scaling: \u001b[39m\u001b[38;5;124m\"\u001b[39m,accuracy_score(y_test,y_pred))\n",
      "File \u001b[1;32mc:\\Python311\\Lib\\site-packages\\sklearn\\base.py:1152\u001b[0m, in \u001b[0;36m_fit_context.<locals>.decorator.<locals>.wrapper\u001b[1;34m(estimator, *args, **kwargs)\u001b[0m\n\u001b[0;32m   1145\u001b[0m     estimator\u001b[38;5;241m.\u001b[39m_validate_params()\n\u001b[0;32m   1147\u001b[0m \u001b[38;5;28;01mwith\u001b[39;00m config_context(\n\u001b[0;32m   1148\u001b[0m     skip_parameter_validation\u001b[38;5;241m=\u001b[39m(\n\u001b[0;32m   1149\u001b[0m         prefer_skip_nested_validation \u001b[38;5;129;01mor\u001b[39;00m global_skip_validation\n\u001b[0;32m   1150\u001b[0m     )\n\u001b[0;32m   1151\u001b[0m ):\n\u001b[1;32m-> 1152\u001b[0m     \u001b[38;5;28;01mreturn\u001b[39;00m \u001b[43mfit_method\u001b[49m\u001b[43m(\u001b[49m\u001b[43mestimator\u001b[49m\u001b[43m,\u001b[49m\u001b[43m \u001b[49m\u001b[38;5;241;43m*\u001b[39;49m\u001b[43margs\u001b[49m\u001b[43m,\u001b[49m\u001b[43m \u001b[49m\u001b[38;5;241;43m*\u001b[39;49m\u001b[38;5;241;43m*\u001b[39;49m\u001b[43mkwargs\u001b[49m\u001b[43m)\u001b[49m\n",
      "File \u001b[1;32mc:\\Python311\\Lib\\site-packages\\sklearn\\ensemble\\_forest.py:456\u001b[0m, in \u001b[0;36mBaseForest.fit\u001b[1;34m(self, X, y, sample_weight)\u001b[0m\n\u001b[0;32m    445\u001b[0m trees \u001b[38;5;241m=\u001b[39m [\n\u001b[0;32m    446\u001b[0m     \u001b[38;5;28mself\u001b[39m\u001b[38;5;241m.\u001b[39m_make_estimator(append\u001b[38;5;241m=\u001b[39m\u001b[38;5;28;01mFalse\u001b[39;00m, random_state\u001b[38;5;241m=\u001b[39mrandom_state)\n\u001b[0;32m    447\u001b[0m     \u001b[38;5;28;01mfor\u001b[39;00m i \u001b[38;5;129;01min\u001b[39;00m \u001b[38;5;28mrange\u001b[39m(n_more_estimators)\n\u001b[0;32m    448\u001b[0m ]\n\u001b[0;32m    450\u001b[0m \u001b[38;5;66;03m# Parallel loop: we prefer the threading backend as the Cython code\u001b[39;00m\n\u001b[0;32m    451\u001b[0m \u001b[38;5;66;03m# for fitting the trees is internally releasing the Python GIL\u001b[39;00m\n\u001b[0;32m    452\u001b[0m \u001b[38;5;66;03m# making threading more efficient than multiprocessing in\u001b[39;00m\n\u001b[0;32m    453\u001b[0m \u001b[38;5;66;03m# that case. However, for joblib 0.12+ we respect any\u001b[39;00m\n\u001b[0;32m    454\u001b[0m \u001b[38;5;66;03m# parallel_backend contexts set at a higher level,\u001b[39;00m\n\u001b[0;32m    455\u001b[0m \u001b[38;5;66;03m# since correctness does not rely on using threads.\u001b[39;00m\n\u001b[1;32m--> 456\u001b[0m trees \u001b[38;5;241m=\u001b[39m \u001b[43mParallel\u001b[49m\u001b[43m(\u001b[49m\n\u001b[0;32m    457\u001b[0m \u001b[43m    \u001b[49m\u001b[43mn_jobs\u001b[49m\u001b[38;5;241;43m=\u001b[39;49m\u001b[38;5;28;43mself\u001b[39;49m\u001b[38;5;241;43m.\u001b[39;49m\u001b[43mn_jobs\u001b[49m\u001b[43m,\u001b[49m\n\u001b[0;32m    458\u001b[0m \u001b[43m    \u001b[49m\u001b[43mverbose\u001b[49m\u001b[38;5;241;43m=\u001b[39;49m\u001b[38;5;28;43mself\u001b[39;49m\u001b[38;5;241;43m.\u001b[39;49m\u001b[43mverbose\u001b[49m\u001b[43m,\u001b[49m\n\u001b[0;32m    459\u001b[0m \u001b[43m    \u001b[49m\u001b[43mprefer\u001b[49m\u001b[38;5;241;43m=\u001b[39;49m\u001b[38;5;124;43m\"\u001b[39;49m\u001b[38;5;124;43mthreads\u001b[39;49m\u001b[38;5;124;43m\"\u001b[39;49m\u001b[43m,\u001b[49m\n\u001b[0;32m    460\u001b[0m \u001b[43m\u001b[49m\u001b[43m)\u001b[49m\u001b[43m(\u001b[49m\n\u001b[0;32m    461\u001b[0m \u001b[43m    \u001b[49m\u001b[43mdelayed\u001b[49m\u001b[43m(\u001b[49m\u001b[43m_parallel_build_trees\u001b[49m\u001b[43m)\u001b[49m\u001b[43m(\u001b[49m\n\u001b[0;32m    462\u001b[0m \u001b[43m        \u001b[49m\u001b[43mt\u001b[49m\u001b[43m,\u001b[49m\n\u001b[0;32m    463\u001b[0m \u001b[43m        \u001b[49m\u001b[38;5;28;43mself\u001b[39;49m\u001b[38;5;241;43m.\u001b[39;49m\u001b[43mbootstrap\u001b[49m\u001b[43m,\u001b[49m\n\u001b[0;32m    464\u001b[0m \u001b[43m        \u001b[49m\u001b[43mX\u001b[49m\u001b[43m,\u001b[49m\n\u001b[0;32m    465\u001b[0m \u001b[43m        \u001b[49m\u001b[43my\u001b[49m\u001b[43m,\u001b[49m\n\u001b[0;32m    466\u001b[0m \u001b[43m        \u001b[49m\u001b[43msample_weight\u001b[49m\u001b[43m,\u001b[49m\n\u001b[0;32m    467\u001b[0m \u001b[43m        \u001b[49m\u001b[43mi\u001b[49m\u001b[43m,\u001b[49m\n\u001b[0;32m    468\u001b[0m \u001b[43m        \u001b[49m\u001b[38;5;28;43mlen\u001b[39;49m\u001b[43m(\u001b[49m\u001b[43mtrees\u001b[49m\u001b[43m)\u001b[49m\u001b[43m,\u001b[49m\n\u001b[0;32m    469\u001b[0m \u001b[43m        \u001b[49m\u001b[43mverbose\u001b[49m\u001b[38;5;241;43m=\u001b[39;49m\u001b[38;5;28;43mself\u001b[39;49m\u001b[38;5;241;43m.\u001b[39;49m\u001b[43mverbose\u001b[49m\u001b[43m,\u001b[49m\n\u001b[0;32m    470\u001b[0m \u001b[43m        \u001b[49m\u001b[43mclass_weight\u001b[49m\u001b[38;5;241;43m=\u001b[39;49m\u001b[38;5;28;43mself\u001b[39;49m\u001b[38;5;241;43m.\u001b[39;49m\u001b[43mclass_weight\u001b[49m\u001b[43m,\u001b[49m\n\u001b[0;32m    471\u001b[0m \u001b[43m        \u001b[49m\u001b[43mn_samples_bootstrap\u001b[49m\u001b[38;5;241;43m=\u001b[39;49m\u001b[43mn_samples_bootstrap\u001b[49m\u001b[43m,\u001b[49m\n\u001b[0;32m    472\u001b[0m \u001b[43m    \u001b[49m\u001b[43m)\u001b[49m\n\u001b[0;32m    473\u001b[0m \u001b[43m    \u001b[49m\u001b[38;5;28;43;01mfor\u001b[39;49;00m\u001b[43m \u001b[49m\u001b[43mi\u001b[49m\u001b[43m,\u001b[49m\u001b[43m \u001b[49m\u001b[43mt\u001b[49m\u001b[43m \u001b[49m\u001b[38;5;129;43;01min\u001b[39;49;00m\u001b[43m \u001b[49m\u001b[38;5;28;43menumerate\u001b[39;49m\u001b[43m(\u001b[49m\u001b[43mtrees\u001b[49m\u001b[43m)\u001b[49m\n\u001b[0;32m    474\u001b[0m \u001b[43m\u001b[49m\u001b[43m)\u001b[49m\n\u001b[0;32m    476\u001b[0m \u001b[38;5;66;03m# Collect newly grown trees\u001b[39;00m\n\u001b[0;32m    477\u001b[0m \u001b[38;5;28mself\u001b[39m\u001b[38;5;241m.\u001b[39mestimators_\u001b[38;5;241m.\u001b[39mextend(trees)\n",
      "File \u001b[1;32mc:\\Python311\\Lib\\site-packages\\sklearn\\utils\\parallel.py:65\u001b[0m, in \u001b[0;36mParallel.__call__\u001b[1;34m(self, iterable)\u001b[0m\n\u001b[0;32m     60\u001b[0m config \u001b[38;5;241m=\u001b[39m get_config()\n\u001b[0;32m     61\u001b[0m iterable_with_config \u001b[38;5;241m=\u001b[39m (\n\u001b[0;32m     62\u001b[0m     (_with_config(delayed_func, config), args, kwargs)\n\u001b[0;32m     63\u001b[0m     \u001b[38;5;28;01mfor\u001b[39;00m delayed_func, args, kwargs \u001b[38;5;129;01min\u001b[39;00m iterable\n\u001b[0;32m     64\u001b[0m )\n\u001b[1;32m---> 65\u001b[0m \u001b[38;5;28;01mreturn\u001b[39;00m \u001b[38;5;28;43msuper\u001b[39;49m\u001b[43m(\u001b[49m\u001b[43m)\u001b[49m\u001b[38;5;241;43m.\u001b[39;49m\u001b[38;5;21;43m__call__\u001b[39;49m\u001b[43m(\u001b[49m\u001b[43miterable_with_config\u001b[49m\u001b[43m)\u001b[49m\n",
      "File \u001b[1;32mc:\\Python311\\Lib\\site-packages\\joblib\\parallel.py:1863\u001b[0m, in \u001b[0;36mParallel.__call__\u001b[1;34m(self, iterable)\u001b[0m\n\u001b[0;32m   1861\u001b[0m     output \u001b[38;5;241m=\u001b[39m \u001b[38;5;28mself\u001b[39m\u001b[38;5;241m.\u001b[39m_get_sequential_output(iterable)\n\u001b[0;32m   1862\u001b[0m     \u001b[38;5;28mnext\u001b[39m(output)\n\u001b[1;32m-> 1863\u001b[0m     \u001b[38;5;28;01mreturn\u001b[39;00m output \u001b[38;5;28;01mif\u001b[39;00m \u001b[38;5;28mself\u001b[39m\u001b[38;5;241m.\u001b[39mreturn_generator \u001b[38;5;28;01melse\u001b[39;00m \u001b[38;5;28;43mlist\u001b[39;49m\u001b[43m(\u001b[49m\u001b[43moutput\u001b[49m\u001b[43m)\u001b[49m\n\u001b[0;32m   1865\u001b[0m \u001b[38;5;66;03m# Let's create an ID that uniquely identifies the current call. If the\u001b[39;00m\n\u001b[0;32m   1866\u001b[0m \u001b[38;5;66;03m# call is interrupted early and that the same instance is immediately\u001b[39;00m\n\u001b[0;32m   1867\u001b[0m \u001b[38;5;66;03m# re-used, this id will be used to prevent workers that were\u001b[39;00m\n\u001b[0;32m   1868\u001b[0m \u001b[38;5;66;03m# concurrently finalizing a task from the previous call to run the\u001b[39;00m\n\u001b[0;32m   1869\u001b[0m \u001b[38;5;66;03m# callback.\u001b[39;00m\n\u001b[0;32m   1870\u001b[0m \u001b[38;5;28;01mwith\u001b[39;00m \u001b[38;5;28mself\u001b[39m\u001b[38;5;241m.\u001b[39m_lock:\n",
      "File \u001b[1;32mc:\\Python311\\Lib\\site-packages\\joblib\\parallel.py:1792\u001b[0m, in \u001b[0;36mParallel._get_sequential_output\u001b[1;34m(self, iterable)\u001b[0m\n\u001b[0;32m   1790\u001b[0m \u001b[38;5;28mself\u001b[39m\u001b[38;5;241m.\u001b[39mn_dispatched_batches \u001b[38;5;241m+\u001b[39m\u001b[38;5;241m=\u001b[39m \u001b[38;5;241m1\u001b[39m\n\u001b[0;32m   1791\u001b[0m \u001b[38;5;28mself\u001b[39m\u001b[38;5;241m.\u001b[39mn_dispatched_tasks \u001b[38;5;241m+\u001b[39m\u001b[38;5;241m=\u001b[39m \u001b[38;5;241m1\u001b[39m\n\u001b[1;32m-> 1792\u001b[0m res \u001b[38;5;241m=\u001b[39m \u001b[43mfunc\u001b[49m\u001b[43m(\u001b[49m\u001b[38;5;241;43m*\u001b[39;49m\u001b[43margs\u001b[49m\u001b[43m,\u001b[49m\u001b[43m \u001b[49m\u001b[38;5;241;43m*\u001b[39;49m\u001b[38;5;241;43m*\u001b[39;49m\u001b[43mkwargs\u001b[49m\u001b[43m)\u001b[49m\n\u001b[0;32m   1793\u001b[0m \u001b[38;5;28mself\u001b[39m\u001b[38;5;241m.\u001b[39mn_completed_tasks \u001b[38;5;241m+\u001b[39m\u001b[38;5;241m=\u001b[39m \u001b[38;5;241m1\u001b[39m\n\u001b[0;32m   1794\u001b[0m \u001b[38;5;28mself\u001b[39m\u001b[38;5;241m.\u001b[39mprint_progress()\n",
      "File \u001b[1;32mc:\\Python311\\Lib\\site-packages\\sklearn\\utils\\parallel.py:127\u001b[0m, in \u001b[0;36m_FuncWrapper.__call__\u001b[1;34m(self, *args, **kwargs)\u001b[0m\n\u001b[0;32m    125\u001b[0m     config \u001b[38;5;241m=\u001b[39m {}\n\u001b[0;32m    126\u001b[0m \u001b[38;5;28;01mwith\u001b[39;00m config_context(\u001b[38;5;241m*\u001b[39m\u001b[38;5;241m*\u001b[39mconfig):\n\u001b[1;32m--> 127\u001b[0m     \u001b[38;5;28;01mreturn\u001b[39;00m \u001b[38;5;28;43mself\u001b[39;49m\u001b[38;5;241;43m.\u001b[39;49m\u001b[43mfunction\u001b[49m\u001b[43m(\u001b[49m\u001b[38;5;241;43m*\u001b[39;49m\u001b[43margs\u001b[49m\u001b[43m,\u001b[49m\u001b[43m \u001b[49m\u001b[38;5;241;43m*\u001b[39;49m\u001b[38;5;241;43m*\u001b[39;49m\u001b[43mkwargs\u001b[49m\u001b[43m)\u001b[49m\n",
      "File \u001b[1;32mc:\\Python311\\Lib\\site-packages\\sklearn\\ensemble\\_forest.py:188\u001b[0m, in \u001b[0;36m_parallel_build_trees\u001b[1;34m(tree, bootstrap, X, y, sample_weight, tree_idx, n_trees, verbose, class_weight, n_samples_bootstrap)\u001b[0m\n\u001b[0;32m    185\u001b[0m     \u001b[38;5;28;01melif\u001b[39;00m class_weight \u001b[38;5;241m==\u001b[39m \u001b[38;5;124m\"\u001b[39m\u001b[38;5;124mbalanced_subsample\u001b[39m\u001b[38;5;124m\"\u001b[39m:\n\u001b[0;32m    186\u001b[0m         curr_sample_weight \u001b[38;5;241m*\u001b[39m\u001b[38;5;241m=\u001b[39m compute_sample_weight(\u001b[38;5;124m\"\u001b[39m\u001b[38;5;124mbalanced\u001b[39m\u001b[38;5;124m\"\u001b[39m, y, indices\u001b[38;5;241m=\u001b[39mindices)\n\u001b[1;32m--> 188\u001b[0m     \u001b[43mtree\u001b[49m\u001b[38;5;241;43m.\u001b[39;49m\u001b[43mfit\u001b[49m\u001b[43m(\u001b[49m\u001b[43mX\u001b[49m\u001b[43m,\u001b[49m\u001b[43m \u001b[49m\u001b[43my\u001b[49m\u001b[43m,\u001b[49m\u001b[43m \u001b[49m\u001b[43msample_weight\u001b[49m\u001b[38;5;241;43m=\u001b[39;49m\u001b[43mcurr_sample_weight\u001b[49m\u001b[43m,\u001b[49m\u001b[43m \u001b[49m\u001b[43mcheck_input\u001b[49m\u001b[38;5;241;43m=\u001b[39;49m\u001b[38;5;28;43;01mFalse\u001b[39;49;00m\u001b[43m)\u001b[49m\n\u001b[0;32m    189\u001b[0m \u001b[38;5;28;01melse\u001b[39;00m:\n\u001b[0;32m    190\u001b[0m     tree\u001b[38;5;241m.\u001b[39mfit(X, y, sample_weight\u001b[38;5;241m=\u001b[39msample_weight, check_input\u001b[38;5;241m=\u001b[39m\u001b[38;5;28;01mFalse\u001b[39;00m)\n",
      "File \u001b[1;32mc:\\Python311\\Lib\\site-packages\\sklearn\\base.py:1152\u001b[0m, in \u001b[0;36m_fit_context.<locals>.decorator.<locals>.wrapper\u001b[1;34m(estimator, *args, **kwargs)\u001b[0m\n\u001b[0;32m   1145\u001b[0m     estimator\u001b[38;5;241m.\u001b[39m_validate_params()\n\u001b[0;32m   1147\u001b[0m \u001b[38;5;28;01mwith\u001b[39;00m config_context(\n\u001b[0;32m   1148\u001b[0m     skip_parameter_validation\u001b[38;5;241m=\u001b[39m(\n\u001b[0;32m   1149\u001b[0m         prefer_skip_nested_validation \u001b[38;5;129;01mor\u001b[39;00m global_skip_validation\n\u001b[0;32m   1150\u001b[0m     )\n\u001b[0;32m   1151\u001b[0m ):\n\u001b[1;32m-> 1152\u001b[0m     \u001b[38;5;28;01mreturn\u001b[39;00m \u001b[43mfit_method\u001b[49m\u001b[43m(\u001b[49m\u001b[43mestimator\u001b[49m\u001b[43m,\u001b[49m\u001b[43m \u001b[49m\u001b[38;5;241;43m*\u001b[39;49m\u001b[43margs\u001b[49m\u001b[43m,\u001b[49m\u001b[43m \u001b[49m\u001b[38;5;241;43m*\u001b[39;49m\u001b[38;5;241;43m*\u001b[39;49m\u001b[43mkwargs\u001b[49m\u001b[43m)\u001b[49m\n",
      "File \u001b[1;32mc:\\Python311\\Lib\\site-packages\\sklearn\\tree\\_classes.py:959\u001b[0m, in \u001b[0;36mDecisionTreeClassifier.fit\u001b[1;34m(self, X, y, sample_weight, check_input)\u001b[0m\n\u001b[0;32m    928\u001b[0m \u001b[38;5;129m@_fit_context\u001b[39m(prefer_skip_nested_validation\u001b[38;5;241m=\u001b[39m\u001b[38;5;28;01mTrue\u001b[39;00m)\n\u001b[0;32m    929\u001b[0m \u001b[38;5;28;01mdef\u001b[39;00m \u001b[38;5;21mfit\u001b[39m(\u001b[38;5;28mself\u001b[39m, X, y, sample_weight\u001b[38;5;241m=\u001b[39m\u001b[38;5;28;01mNone\u001b[39;00m, check_input\u001b[38;5;241m=\u001b[39m\u001b[38;5;28;01mTrue\u001b[39;00m):\n\u001b[0;32m    930\u001b[0m \u001b[38;5;250m    \u001b[39m\u001b[38;5;124;03m\"\"\"Build a decision tree classifier from the training set (X, y).\u001b[39;00m\n\u001b[0;32m    931\u001b[0m \n\u001b[0;32m    932\u001b[0m \u001b[38;5;124;03m    Parameters\u001b[39;00m\n\u001b[1;32m   (...)\u001b[0m\n\u001b[0;32m    956\u001b[0m \u001b[38;5;124;03m        Fitted estimator.\u001b[39;00m\n\u001b[0;32m    957\u001b[0m \u001b[38;5;124;03m    \"\"\"\u001b[39;00m\n\u001b[1;32m--> 959\u001b[0m     \u001b[38;5;28;43msuper\u001b[39;49m\u001b[43m(\u001b[49m\u001b[43m)\u001b[49m\u001b[38;5;241;43m.\u001b[39;49m\u001b[43m_fit\u001b[49m\u001b[43m(\u001b[49m\n\u001b[0;32m    960\u001b[0m \u001b[43m        \u001b[49m\u001b[43mX\u001b[49m\u001b[43m,\u001b[49m\n\u001b[0;32m    961\u001b[0m \u001b[43m        \u001b[49m\u001b[43my\u001b[49m\u001b[43m,\u001b[49m\n\u001b[0;32m    962\u001b[0m \u001b[43m        \u001b[49m\u001b[43msample_weight\u001b[49m\u001b[38;5;241;43m=\u001b[39;49m\u001b[43msample_weight\u001b[49m\u001b[43m,\u001b[49m\n\u001b[0;32m    963\u001b[0m \u001b[43m        \u001b[49m\u001b[43mcheck_input\u001b[49m\u001b[38;5;241;43m=\u001b[39;49m\u001b[43mcheck_input\u001b[49m\u001b[43m,\u001b[49m\n\u001b[0;32m    964\u001b[0m \u001b[43m    \u001b[49m\u001b[43m)\u001b[49m\n\u001b[0;32m    965\u001b[0m     \u001b[38;5;28;01mreturn\u001b[39;00m \u001b[38;5;28mself\u001b[39m\n",
      "File \u001b[1;32mc:\\Python311\\Lib\\site-packages\\sklearn\\tree\\_classes.py:443\u001b[0m, in \u001b[0;36mBaseDecisionTree._fit\u001b[1;34m(self, X, y, sample_weight, check_input, missing_values_in_feature_mask)\u001b[0m\n\u001b[0;32m    432\u001b[0m \u001b[38;5;28;01melse\u001b[39;00m:\n\u001b[0;32m    433\u001b[0m     builder \u001b[38;5;241m=\u001b[39m BestFirstTreeBuilder(\n\u001b[0;32m    434\u001b[0m         splitter,\n\u001b[0;32m    435\u001b[0m         min_samples_split,\n\u001b[1;32m   (...)\u001b[0m\n\u001b[0;32m    440\u001b[0m         \u001b[38;5;28mself\u001b[39m\u001b[38;5;241m.\u001b[39mmin_impurity_decrease,\n\u001b[0;32m    441\u001b[0m     )\n\u001b[1;32m--> 443\u001b[0m \u001b[43mbuilder\u001b[49m\u001b[38;5;241;43m.\u001b[39;49m\u001b[43mbuild\u001b[49m\u001b[43m(\u001b[49m\u001b[38;5;28;43mself\u001b[39;49m\u001b[38;5;241;43m.\u001b[39;49m\u001b[43mtree_\u001b[49m\u001b[43m,\u001b[49m\u001b[43m \u001b[49m\u001b[43mX\u001b[49m\u001b[43m,\u001b[49m\u001b[43m \u001b[49m\u001b[43my\u001b[49m\u001b[43m,\u001b[49m\u001b[43m \u001b[49m\u001b[43msample_weight\u001b[49m\u001b[43m,\u001b[49m\u001b[43m \u001b[49m\u001b[43mmissing_values_in_feature_mask\u001b[49m\u001b[43m)\u001b[49m\n\u001b[0;32m    445\u001b[0m \u001b[38;5;28;01mif\u001b[39;00m \u001b[38;5;28mself\u001b[39m\u001b[38;5;241m.\u001b[39mn_outputs_ \u001b[38;5;241m==\u001b[39m \u001b[38;5;241m1\u001b[39m \u001b[38;5;129;01mand\u001b[39;00m is_classifier(\u001b[38;5;28mself\u001b[39m):\n\u001b[0;32m    446\u001b[0m     \u001b[38;5;28mself\u001b[39m\u001b[38;5;241m.\u001b[39mn_classes_ \u001b[38;5;241m=\u001b[39m \u001b[38;5;28mself\u001b[39m\u001b[38;5;241m.\u001b[39mn_classes_[\u001b[38;5;241m0\u001b[39m]\n",
      "\u001b[1;31mKeyboardInterrupt\u001b[0m: "
     ]
    }
   ],
   "source": [
    "# https://scikit-learn.org/stable/modules/generated/sklearn.ensemble.RandomForestClassifier.html\n",
    "from sklearn.ensemble import RandomForestClassifier\n",
    "clf = RandomForestClassifier(criterion='gini', bootstrap = True, max_depth = 20, max_features = None, min_samples_split=10,n_estimators = 100, random_state=100)\n",
    "# With Scaling \n",
    "clf.fit(X_train_scale,y_train) \n",
    "y_pred = clf.predict(X_test_scale)\n",
    "print(\"With Scaling: \",accuracy_score(y_test,y_pred))\n",
    "print(\"-------------------------TEST SCORES-----------------------\") \n",
    "print(f\"Recall: { recall_score(y_test, y_pred) }\")\n",
    "print(f\"Precision: { precision_score(y_test, y_pred) }\")\n",
    "print(f\"F1-Score: { f1_score(y_test, y_pred) }\")\n",
    "print(f\"Accuracy score: { accuracy_score(y_test, y_pred) }\")\n",
    "print(f\"AUC Score: { roc_auc_score(y_test, y_pred) }\")"
   ]
  },
  {
   "cell_type": "markdown",
   "id": "1c5e6fe6",
   "metadata": {
    "papermill": {
     "duration": 0.019705,
     "end_time": "2023-09-13T12:49:31.067262",
     "exception": false,
     "start_time": "2023-09-13T12:49:31.047557",
     "status": "completed"
    },
    "tags": []
   },
   "source": [
    "## Deploy the model"
   ]
  },
  {
   "cell_type": "markdown",
   "id": "44d8c1ce",
   "metadata": {
    "papermill": {
     "duration": 0.019317,
     "end_time": "2023-09-13T12:49:31.106386",
     "exception": false,
     "start_time": "2023-09-13T12:49:31.087069",
     "status": "completed"
    },
    "tags": []
   },
   "source": [
    "### Model Dump"
   ]
  },
  {
   "cell_type": "code",
   "execution_count": null,
   "id": "10ae4508",
   "metadata": {
    "execution": {
     "iopub.execute_input": "2023-09-13T12:49:31.149150Z",
     "iopub.status.busy": "2023-09-13T12:49:31.148718Z",
     "iopub.status.idle": "2023-09-13T12:49:31.249423Z",
     "shell.execute_reply": "2023-09-13T12:49:31.248519Z"
    },
    "papermill": {
     "duration": 0.125352,
     "end_time": "2023-09-13T12:49:31.252004",
     "exception": false,
     "start_time": "2023-09-13T12:49:31.126652",
     "status": "completed"
    },
    "tags": []
   },
   "outputs": [],
   "source": [
    "pickle.dump(clf,open('model.pkl','wb'))"
   ]
  },
  {
   "cell_type": "markdown",
   "id": "1f8e0742",
   "metadata": {
    "papermill": {
     "duration": 0.019736,
     "end_time": "2023-09-13T12:49:31.292177",
     "exception": false,
     "start_time": "2023-09-13T12:49:31.272441",
     "status": "completed"
    },
    "tags": []
   },
   "source": [
    "### Load Model"
   ]
  },
  {
   "cell_type": "code",
   "execution_count": null,
   "id": "3a9f68c9",
   "metadata": {
    "execution": {
     "iopub.execute_input": "2023-09-13T12:49:31.333476Z",
     "iopub.status.busy": "2023-09-13T12:49:31.333113Z",
     "iopub.status.idle": "2023-09-13T12:49:31.409660Z",
     "shell.execute_reply": "2023-09-13T12:49:31.408617Z"
    },
    "papermill": {
     "duration": 0.100015,
     "end_time": "2023-09-13T12:49:31.412157",
     "exception": false,
     "start_time": "2023-09-13T12:49:31.312142",
     "status": "completed"
    },
    "tags": []
   },
   "outputs": [],
   "source": [
    "model = pickle.load(open('model.pkl','rb'))"
   ]
  },
  {
   "cell_type": "markdown",
   "id": "c10e8056",
   "metadata": {
    "papermill": {
     "duration": 0.019391,
     "end_time": "2023-09-13T12:49:31.451655",
     "exception": false,
     "start_time": "2023-09-13T12:49:31.432264",
     "status": "completed"
    },
    "tags": []
   },
   "source": [
    "### Make Predictions"
   ]
  },
  {
   "cell_type": "code",
   "execution_count": null,
   "id": "652c838a",
   "metadata": {
    "execution": {
     "iopub.execute_input": "2023-09-13T12:49:31.492566Z",
     "iopub.status.busy": "2023-09-13T12:49:31.492212Z",
     "iopub.status.idle": "2023-09-13T12:49:31.506141Z",
     "shell.execute_reply": "2023-09-13T12:49:31.505030Z"
    },
    "papermill": {
     "duration": 0.037128,
     "end_time": "2023-09-13T12:49:31.508241",
     "exception": false,
     "start_time": "2023-09-13T12:49:31.471113",
     "status": "completed"
    },
    "tags": []
   },
   "outputs": [
    {
     "data": {
      "text/html": [
       "<div>\n",
       "<style scoped>\n",
       "    .dataframe tbody tr th:only-of-type {\n",
       "        vertical-align: middle;\n",
       "    }\n",
       "\n",
       "    .dataframe tbody tr th {\n",
       "        vertical-align: top;\n",
       "    }\n",
       "\n",
       "    .dataframe thead th {\n",
       "        text-align: right;\n",
       "    }\n",
       "</style>\n",
       "<table border=\"1\" class=\"dataframe\">\n",
       "  <thead>\n",
       "    <tr style=\"text-align: right;\">\n",
       "      <th></th>\n",
       "      <th>Income</th>\n",
       "      <th>Age</th>\n",
       "      <th>Experience</th>\n",
       "      <th>Married/Single</th>\n",
       "      <th>House_Ownership</th>\n",
       "      <th>Car_Ownership</th>\n",
       "      <th>CURRENT_JOB_YRS</th>\n",
       "      <th>CURRENT_HOUSE_YRS</th>\n",
       "      <th>Risk_Flag</th>\n",
       "      <th>Profession_count</th>\n",
       "      <th>CITY_count</th>\n",
       "      <th>STATE_count</th>\n",
       "    </tr>\n",
       "  </thead>\n",
       "  <tbody>\n",
       "    <tr>\n",
       "      <th>0</th>\n",
       "      <td>1303834</td>\n",
       "      <td>23</td>\n",
       "      <td>3</td>\n",
       "      <td>0</td>\n",
       "      <td>1</td>\n",
       "      <td>0</td>\n",
       "      <td>3</td>\n",
       "      <td>13</td>\n",
       "      <td>0</td>\n",
       "      <td>5217</td>\n",
       "      <td>798</td>\n",
       "      <td>14122</td>\n",
       "    </tr>\n",
       "    <tr>\n",
       "      <th>1</th>\n",
       "      <td>7574516</td>\n",
       "      <td>40</td>\n",
       "      <td>10</td>\n",
       "      <td>0</td>\n",
       "      <td>1</td>\n",
       "      <td>0</td>\n",
       "      <td>9</td>\n",
       "      <td>13</td>\n",
       "      <td>0</td>\n",
       "      <td>5053</td>\n",
       "      <td>849</td>\n",
       "      <td>25562</td>\n",
       "    </tr>\n",
       "    <tr>\n",
       "      <th>2</th>\n",
       "      <td>3991815</td>\n",
       "      <td>66</td>\n",
       "      <td>4</td>\n",
       "      <td>1</td>\n",
       "      <td>1</td>\n",
       "      <td>0</td>\n",
       "      <td>4</td>\n",
       "      <td>10</td>\n",
       "      <td>0</td>\n",
       "      <td>5195</td>\n",
       "      <td>688</td>\n",
       "      <td>5805</td>\n",
       "    </tr>\n",
       "    <tr>\n",
       "      <th>3</th>\n",
       "      <td>6256451</td>\n",
       "      <td>41</td>\n",
       "      <td>2</td>\n",
       "      <td>0</td>\n",
       "      <td>1</td>\n",
       "      <td>1</td>\n",
       "      <td>2</td>\n",
       "      <td>12</td>\n",
       "      <td>1</td>\n",
       "      <td>5053</td>\n",
       "      <td>607</td>\n",
       "      <td>4658</td>\n",
       "    </tr>\n",
       "    <tr>\n",
       "      <th>4</th>\n",
       "      <td>5768871</td>\n",
       "      <td>47</td>\n",
       "      <td>11</td>\n",
       "      <td>0</td>\n",
       "      <td>1</td>\n",
       "      <td>0</td>\n",
       "      <td>3</td>\n",
       "      <td>14</td>\n",
       "      <td>1</td>\n",
       "      <td>4413</td>\n",
       "      <td>809</td>\n",
       "      <td>16537</td>\n",
       "    </tr>\n",
       "  </tbody>\n",
       "</table>\n",
       "</div>"
      ],
      "text/plain": [
       "    Income  Age  Experience  Married/Single  House_Ownership  Car_Ownership  \\\n",
       "0  1303834   23           3               0                1              0   \n",
       "1  7574516   40          10               0                1              0   \n",
       "2  3991815   66           4               1                1              0   \n",
       "3  6256451   41           2               0                1              1   \n",
       "4  5768871   47          11               0                1              0   \n",
       "\n",
       "   CURRENT_JOB_YRS  CURRENT_HOUSE_YRS  Risk_Flag  Profession_count  \\\n",
       "0                3                 13          0              5217   \n",
       "1                9                 13          0              5053   \n",
       "2                4                 10          0              5195   \n",
       "3                2                 12          1              5053   \n",
       "4                3                 14          1              4413   \n",
       "\n",
       "   CITY_count  STATE_count  \n",
       "0         798        14122  \n",
       "1         849        25562  \n",
       "2         688         5805  \n",
       "3         607         4658  \n",
       "4         809        16537  "
      ]
     },
     "execution_count": 36,
     "metadata": {},
     "output_type": "execute_result"
    }
   ],
   "source": [
    "df.head()"
   ]
  },
  {
   "cell_type": "code",
   "execution_count": null,
   "id": "8027a226",
   "metadata": {
    "execution": {
     "iopub.execute_input": "2023-09-13T12:49:31.550239Z",
     "iopub.status.busy": "2023-09-13T12:49:31.549847Z",
     "iopub.status.idle": "2023-09-13T12:49:31.564577Z",
     "shell.execute_reply": "2023-09-13T12:49:31.563676Z"
    },
    "papermill": {
     "duration": 0.038061,
     "end_time": "2023-09-13T12:49:31.566547",
     "exception": false,
     "start_time": "2023-09-13T12:49:31.528486",
     "status": "completed"
    },
    "tags": []
   },
   "outputs": [
    {
     "data": {
      "text/plain": [
       "array([0])"
      ]
     },
     "execution_count": 37,
     "metadata": {},
     "output_type": "execute_result"
    }
   ],
   "source": [
    "Income = 1303834\n",
    "Age = 23 \n",
    "Experience = 3  \n",
    "Married_Single = 0 # 0 = single, 1 = married\n",
    "House_Ownership = 1\n",
    "Car_Ownership = 0\n",
    "CURRENT_JOB_YRS = 3\n",
    "CURRENT_HOUSE_YRS = 13\n",
    "Profession_count = 5217\n",
    "CITY_count = 798\n",
    "STATE_count = 14122\n",
    "\n",
    "prediction = model.predict([[Income,Age,Experience,Married_Single,House_Ownership,Car_Ownership,CURRENT_JOB_YRS,CURRENT_HOUSE_YRS,Profession_count,CITY_count, STATE_count]])\n",
    "prediction"
   ]
  },
  {
   "cell_type": "markdown",
   "id": "3d87a19e",
   "metadata": {
    "papermill": {
     "duration": 0.020091,
     "end_time": "2023-09-13T12:49:31.607066",
     "exception": false,
     "start_time": "2023-09-13T12:49:31.586975",
     "status": "completed"
    },
    "tags": []
   },
   "source": [
    "### The predicted flag is 0 i.e. no risk"
   ]
  }
 ],
 "kernelspec": {
  "display_name": "Python 3",
  "language": "python",
  "name": "python3"
 },
 "language_info": {
  "codemirror_mode": {
   "name": "ipython",
   "version": 3
  },
  "file_extension": ".py",
  "mimetype": "text/x-python",
  "name": "python",
  "nbconvert_exporter": "python",
  "pygments_lexer": "ipython3",
  "version": "3.6.4"
 },
 "metadata": {
  "kernelspec": {
   "display_name": "Python 3",
   "language": "python",
   "name": "python3"
  },
  "language_info": {
   "codemirror_mode": {
    "name": "ipython",
    "version": 3
   },
   "file_extension": ".py",
   "mimetype": "text/x-python",
   "name": "python",
   "nbconvert_exporter": "python",
   "pygments_lexer": "ipython3",
   "version": "3.11.3"
  },
  "papermill": {
   "default_parameters": {},
   "duration": 204.264639,
   "end_time": "2023-09-13T12:49:32.349640",
   "environment_variables": {},
   "exception": null,
   "input_path": "__notebook__.ipynb",
   "output_path": "__notebook__.ipynb",
   "parameters": {},
   "start_time": "2023-09-13T12:46:08.085001",
   "version": "2.4.0"
  }
 },
 "nbformat": 4,
 "nbformat_minor": 5
}
